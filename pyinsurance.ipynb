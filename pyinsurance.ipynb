{
 "cells": [
  {
   "cell_type": "code",
   "execution_count": 48,
   "id": "2e561086-9b3f-4c18-958b-3c4759e44f2c",
   "metadata": {},
   "outputs": [],
   "source": [
    "try:\n",
    "    import pandas, openpyxl, plotly\n",
    "\n",
    "except ImportError as e:\n",
    "    !pip install pandas openpyxl plotly"
   ]
  },
  {
   "cell_type": "code",
   "execution_count": 70,
   "id": "ae723596-117a-43cd-9c09-b88a872317ec",
   "metadata": {},
   "outputs": [],
   "source": [
    "import pandas as pd\n",
    "import plotly.graph_objects as go\n",
    "from plotly.subplots import make_subplots"
   ]
  },
  {
   "cell_type": "code",
   "execution_count": 209,
   "id": "ec86b3fb-4361-454a-84c4-2ee7ec8c0f51",
   "metadata": {},
   "outputs": [
    {
     "data": {
      "text/html": [
       "<div>\n",
       "<style scoped>\n",
       "    .dataframe tbody tr th:only-of-type {\n",
       "        vertical-align: middle;\n",
       "    }\n",
       "\n",
       "    .dataframe tbody tr th {\n",
       "        vertical-align: top;\n",
       "    }\n",
       "\n",
       "    .dataframe thead th {\n",
       "        text-align: right;\n",
       "    }\n",
       "</style>\n",
       "<table border=\"1\" class=\"dataframe\">\n",
       "  <thead>\n",
       "    <tr style=\"text-align: right;\">\n",
       "      <th></th>\n",
       "      <th>DATE</th>\n",
       "      <th>INSURER</th>\n",
       "      <th>PREMIUM</th>\n",
       "      <th>DWELLING COVERAGE</th>\n",
       "      <th>OTHER STRUCTURES PROTECTION</th>\n",
       "      <th>PERSONAL PROPERTY PROTECTION</th>\n",
       "      <th>ADDITIONAL LIVING EXPENSE</th>\n",
       "      <th>FAMILY LIABILITY PROTECTION</th>\n",
       "      <th>GUEST MEDICAL PROTECTION</th>\n",
       "      <th>BUILDING CODES</th>\n",
       "      <th>WATER BACK-UP</th>\n",
       "    </tr>\n",
       "  </thead>\n",
       "  <tbody>\n",
       "    <tr>\n",
       "      <th>0</th>\n",
       "      <td>2020-09-29</td>\n",
       "      <td>ALLSTATE</td>\n",
       "      <td>1048.32</td>\n",
       "      <td>337165</td>\n",
       "      <td>50575</td>\n",
       "      <td>252874</td>\n",
       "      <td>84292</td>\n",
       "      <td>300000</td>\n",
       "      <td>1000</td>\n",
       "      <td>33717</td>\n",
       "      <td>10000</td>\n",
       "    </tr>\n",
       "    <tr>\n",
       "      <th>1</th>\n",
       "      <td>2021-09-21</td>\n",
       "      <td>ALLSTATE</td>\n",
       "      <td>1334.49</td>\n",
       "      <td>363770</td>\n",
       "      <td>54566</td>\n",
       "      <td>272828</td>\n",
       "      <td>90943</td>\n",
       "      <td>300000</td>\n",
       "      <td>1000</td>\n",
       "      <td>36377</td>\n",
       "      <td>10000</td>\n",
       "    </tr>\n",
       "    <tr>\n",
       "      <th>2</th>\n",
       "      <td>2022-09-20</td>\n",
       "      <td>ALLSTATE</td>\n",
       "      <td>1507.72</td>\n",
       "      <td>410945</td>\n",
       "      <td>61642</td>\n",
       "      <td>308209</td>\n",
       "      <td>102737</td>\n",
       "      <td>300000</td>\n",
       "      <td>1000</td>\n",
       "      <td>41095</td>\n",
       "      <td>10000</td>\n",
       "    </tr>\n",
       "    <tr>\n",
       "      <th>3</th>\n",
       "      <td>2023-09-20</td>\n",
       "      <td>ALLSTATE</td>\n",
       "      <td>1850.19</td>\n",
       "      <td>454323</td>\n",
       "      <td>68149</td>\n",
       "      <td>340743</td>\n",
       "      <td>113581</td>\n",
       "      <td>300000</td>\n",
       "      <td>1000</td>\n",
       "      <td>45433</td>\n",
       "      <td>10000</td>\n",
       "    </tr>\n",
       "    <tr>\n",
       "      <th>4</th>\n",
       "      <td>2024-09-19</td>\n",
       "      <td>ALLSTATE</td>\n",
       "      <td>2166.50</td>\n",
       "      <td>479218</td>\n",
       "      <td>71883</td>\n",
       "      <td>359414</td>\n",
       "      <td>119805</td>\n",
       "      <td>300000</td>\n",
       "      <td>1000</td>\n",
       "      <td>47922</td>\n",
       "      <td>10000</td>\n",
       "    </tr>\n",
       "    <tr>\n",
       "      <th>5</th>\n",
       "      <td>2024-10-10</td>\n",
       "      <td>NATIONAL GENERAL</td>\n",
       "      <td>2610.00</td>\n",
       "      <td>480000</td>\n",
       "      <td>48000</td>\n",
       "      <td>240000</td>\n",
       "      <td>96000</td>\n",
       "      <td>500000</td>\n",
       "      <td>5000</td>\n",
       "      <td>48000</td>\n",
       "      <td>25000</td>\n",
       "    </tr>\n",
       "  </tbody>\n",
       "</table>\n",
       "</div>"
      ],
      "text/plain": [
       "        DATE           INSURER  PREMIUM  DWELLING COVERAGE  \\\n",
       "0 2020-09-29          ALLSTATE  1048.32             337165   \n",
       "1 2021-09-21          ALLSTATE  1334.49             363770   \n",
       "2 2022-09-20          ALLSTATE  1507.72             410945   \n",
       "3 2023-09-20          ALLSTATE  1850.19             454323   \n",
       "4 2024-09-19          ALLSTATE  2166.50             479218   \n",
       "5 2024-10-10  NATIONAL GENERAL  2610.00             480000   \n",
       "\n",
       "   OTHER STRUCTURES PROTECTION  PERSONAL PROPERTY PROTECTION  \\\n",
       "0                        50575                        252874   \n",
       "1                        54566                        272828   \n",
       "2                        61642                        308209   \n",
       "3                        68149                        340743   \n",
       "4                        71883                        359414   \n",
       "5                        48000                        240000   \n",
       "\n",
       "   ADDITIONAL LIVING EXPENSE  FAMILY LIABILITY PROTECTION  \\\n",
       "0                      84292                       300000   \n",
       "1                      90943                       300000   \n",
       "2                     102737                       300000   \n",
       "3                     113581                       300000   \n",
       "4                     119805                       300000   \n",
       "5                      96000                       500000   \n",
       "\n",
       "   GUEST MEDICAL PROTECTION  BUILDING CODES  WATER BACK-UP  \n",
       "0                      1000           33717          10000  \n",
       "1                      1000           36377          10000  \n",
       "2                      1000           41095          10000  \n",
       "3                      1000           45433          10000  \n",
       "4                      1000           47922          10000  \n",
       "5                      5000           48000          25000  "
      ]
     },
     "metadata": {},
     "output_type": "display_data"
    }
   ],
   "source": [
    "home_premiums = 'data/home.xlsx'\n",
    "home_df = pd.read_excel(home_premiums)\n",
    "display(home_df)"
   ]
  },
  {
   "cell_type": "code",
   "execution_count": 232,
   "id": "5259053a-8d00-40fd-8551-e38b568fe983",
   "metadata": {},
   "outputs": [
    {
     "data": {
      "text/html": [
       "<div>\n",
       "<style scoped>\n",
       "    .dataframe tbody tr th:only-of-type {\n",
       "        vertical-align: middle;\n",
       "    }\n",
       "\n",
       "    .dataframe tbody tr th {\n",
       "        vertical-align: top;\n",
       "    }\n",
       "\n",
       "    .dataframe thead th {\n",
       "        text-align: right;\n",
       "    }\n",
       "</style>\n",
       "<table border=\"1\" class=\"dataframe\">\n",
       "  <thead>\n",
       "    <tr style=\"text-align: right;\">\n",
       "      <th></th>\n",
       "      <th>DATE</th>\n",
       "      <th>INSURER</th>\n",
       "      <th>PREMIUM</th>\n",
       "    </tr>\n",
       "  </thead>\n",
       "  <tbody>\n",
       "    <tr>\n",
       "      <th>0</th>\n",
       "      <td>2020-09-29</td>\n",
       "      <td>ALLSTATE</td>\n",
       "      <td>1048.32</td>\n",
       "    </tr>\n",
       "    <tr>\n",
       "      <th>1</th>\n",
       "      <td>2021-09-21</td>\n",
       "      <td>ALLSTATE</td>\n",
       "      <td>1334.49</td>\n",
       "    </tr>\n",
       "    <tr>\n",
       "      <th>2</th>\n",
       "      <td>2022-09-20</td>\n",
       "      <td>ALLSTATE</td>\n",
       "      <td>1507.72</td>\n",
       "    </tr>\n",
       "    <tr>\n",
       "      <th>3</th>\n",
       "      <td>2023-09-20</td>\n",
       "      <td>ALLSTATE</td>\n",
       "      <td>1850.19</td>\n",
       "    </tr>\n",
       "    <tr>\n",
       "      <th>4</th>\n",
       "      <td>2024-09-19</td>\n",
       "      <td>ALLSTATE</td>\n",
       "      <td>2166.50</td>\n",
       "    </tr>\n",
       "    <tr>\n",
       "      <th>5</th>\n",
       "      <td>2024-10-10</td>\n",
       "      <td>NATIONAL GENERAL</td>\n",
       "      <td>2610.00</td>\n",
       "    </tr>\n",
       "  </tbody>\n",
       "</table>\n",
       "</div>"
      ],
      "text/plain": [
       "        DATE           INSURER  PREMIUM\n",
       "0 2020-09-29          ALLSTATE  1048.32\n",
       "1 2021-09-21          ALLSTATE  1334.49\n",
       "2 2022-09-20          ALLSTATE  1507.72\n",
       "3 2023-09-20          ALLSTATE  1850.19\n",
       "4 2024-09-19          ALLSTATE  2166.50\n",
       "5 2024-10-10  NATIONAL GENERAL  2610.00"
      ]
     },
     "metadata": {},
     "output_type": "display_data"
    },
    {
     "data": {
      "text/html": [
       "<div>\n",
       "<style scoped>\n",
       "    .dataframe tbody tr th:only-of-type {\n",
       "        vertical-align: middle;\n",
       "    }\n",
       "\n",
       "    .dataframe tbody tr th {\n",
       "        vertical-align: top;\n",
       "    }\n",
       "\n",
       "    .dataframe thead th {\n",
       "        text-align: right;\n",
       "    }\n",
       "</style>\n",
       "<table border=\"1\" class=\"dataframe\">\n",
       "  <thead>\n",
       "    <tr style=\"text-align: right;\">\n",
       "      <th></th>\n",
       "      <th>DATE</th>\n",
       "      <th>INSURER</th>\n",
       "      <th>DWELLING COVERAGE</th>\n",
       "      <th>OTHER STRUCTURES PROTECTION</th>\n",
       "      <th>PERSONAL PROPERTY PROTECTION</th>\n",
       "      <th>ADDITIONAL LIVING EXPENSE</th>\n",
       "      <th>FAMILY LIABILITY PROTECTION</th>\n",
       "      <th>GUEST MEDICAL PROTECTION</th>\n",
       "      <th>BUILDING CODES</th>\n",
       "      <th>WATER BACK-UP</th>\n",
       "    </tr>\n",
       "  </thead>\n",
       "  <tbody>\n",
       "    <tr>\n",
       "      <th>0</th>\n",
       "      <td>2020-09-29</td>\n",
       "      <td>ALLSTATE</td>\n",
       "      <td>337165</td>\n",
       "      <td>50575</td>\n",
       "      <td>252874</td>\n",
       "      <td>84292</td>\n",
       "      <td>300000</td>\n",
       "      <td>1000</td>\n",
       "      <td>33717</td>\n",
       "      <td>10000</td>\n",
       "    </tr>\n",
       "    <tr>\n",
       "      <th>1</th>\n",
       "      <td>2021-09-21</td>\n",
       "      <td>ALLSTATE</td>\n",
       "      <td>363770</td>\n",
       "      <td>54566</td>\n",
       "      <td>272828</td>\n",
       "      <td>90943</td>\n",
       "      <td>300000</td>\n",
       "      <td>1000</td>\n",
       "      <td>36377</td>\n",
       "      <td>10000</td>\n",
       "    </tr>\n",
       "    <tr>\n",
       "      <th>2</th>\n",
       "      <td>2022-09-20</td>\n",
       "      <td>ALLSTATE</td>\n",
       "      <td>410945</td>\n",
       "      <td>61642</td>\n",
       "      <td>308209</td>\n",
       "      <td>102737</td>\n",
       "      <td>300000</td>\n",
       "      <td>1000</td>\n",
       "      <td>41095</td>\n",
       "      <td>10000</td>\n",
       "    </tr>\n",
       "    <tr>\n",
       "      <th>3</th>\n",
       "      <td>2023-09-20</td>\n",
       "      <td>ALLSTATE</td>\n",
       "      <td>454323</td>\n",
       "      <td>68149</td>\n",
       "      <td>340743</td>\n",
       "      <td>113581</td>\n",
       "      <td>300000</td>\n",
       "      <td>1000</td>\n",
       "      <td>45433</td>\n",
       "      <td>10000</td>\n",
       "    </tr>\n",
       "    <tr>\n",
       "      <th>4</th>\n",
       "      <td>2024-09-19</td>\n",
       "      <td>ALLSTATE</td>\n",
       "      <td>479218</td>\n",
       "      <td>71883</td>\n",
       "      <td>359414</td>\n",
       "      <td>119805</td>\n",
       "      <td>300000</td>\n",
       "      <td>1000</td>\n",
       "      <td>47922</td>\n",
       "      <td>10000</td>\n",
       "    </tr>\n",
       "    <tr>\n",
       "      <th>5</th>\n",
       "      <td>2024-10-10</td>\n",
       "      <td>NATIONAL GENERAL</td>\n",
       "      <td>480000</td>\n",
       "      <td>48000</td>\n",
       "      <td>240000</td>\n",
       "      <td>96000</td>\n",
       "      <td>500000</td>\n",
       "      <td>5000</td>\n",
       "      <td>48000</td>\n",
       "      <td>25000</td>\n",
       "    </tr>\n",
       "  </tbody>\n",
       "</table>\n",
       "</div>"
      ],
      "text/plain": [
       "        DATE           INSURER  DWELLING COVERAGE  \\\n",
       "0 2020-09-29          ALLSTATE             337165   \n",
       "1 2021-09-21          ALLSTATE             363770   \n",
       "2 2022-09-20          ALLSTATE             410945   \n",
       "3 2023-09-20          ALLSTATE             454323   \n",
       "4 2024-09-19          ALLSTATE             479218   \n",
       "5 2024-10-10  NATIONAL GENERAL             480000   \n",
       "\n",
       "   OTHER STRUCTURES PROTECTION  PERSONAL PROPERTY PROTECTION  \\\n",
       "0                        50575                        252874   \n",
       "1                        54566                        272828   \n",
       "2                        61642                        308209   \n",
       "3                        68149                        340743   \n",
       "4                        71883                        359414   \n",
       "5                        48000                        240000   \n",
       "\n",
       "   ADDITIONAL LIVING EXPENSE  FAMILY LIABILITY PROTECTION  \\\n",
       "0                      84292                       300000   \n",
       "1                      90943                       300000   \n",
       "2                     102737                       300000   \n",
       "3                     113581                       300000   \n",
       "4                     119805                       300000   \n",
       "5                      96000                       500000   \n",
       "\n",
       "   GUEST MEDICAL PROTECTION  BUILDING CODES  WATER BACK-UP  \n",
       "0                      1000           33717          10000  \n",
       "1                      1000           36377          10000  \n",
       "2                      1000           41095          10000  \n",
       "3                      1000           45433          10000  \n",
       "4                      1000           47922          10000  \n",
       "5                      5000           48000          25000  "
      ]
     },
     "metadata": {},
     "output_type": "display_data"
    }
   ],
   "source": [
    "premiums_df = home_df[['DATE', 'INSURER', 'PREMIUM']]\n",
    "coverages_df = home_df.drop(columns=['PREMIUM'])\n",
    "\n",
    "display(premiums_df)\n",
    "display(coverages_df)"
   ]
  },
  {
   "cell_type": "code",
   "execution_count": 260,
   "id": "46a7f049-7e1d-491a-b91b-d7b85b678029",
   "metadata": {},
   "outputs": [
    {
     "data": {
      "application/vnd.plotly.v1+json": {
       "config": {
        "plotlyServerURL": "https://plot.ly"
       },
       "data": [
        {
         "marker": {
          "symbol": "circle"
         },
         "mode": "lines+markers",
         "name": "ALLSTATE",
         "type": "scatter",
         "x": [
          "2020-09-29T00:00:00",
          "2021-09-21T00:00:00",
          "2022-09-20T00:00:00",
          "2023-09-20T00:00:00",
          "2024-09-19T00:00:00"
         ],
         "xaxis": "x",
         "y": [
          1048.32,
          1334.49,
          1507.72,
          1850.19,
          2166.5
         ],
         "yaxis": "y"
        },
        {
         "marker": {
          "symbol": "circle"
         },
         "mode": "lines+markers",
         "name": "NATIONAL GENERAL",
         "type": "scatter",
         "x": [
          "2024-10-10T00:00:00"
         ],
         "xaxis": "x",
         "y": [
          2610
         ],
         "yaxis": "y"
        },
        {
         "marker": {
          "symbol": "square"
         },
         "mode": "lines+markers",
         "name": "ALLSTATE - DWELLING COVERAGE",
         "type": "scatter",
         "x": [
          "2020-09-29T00:00:00",
          "2021-09-21T00:00:00",
          "2022-09-20T00:00:00",
          "2023-09-20T00:00:00",
          "2024-09-19T00:00:00"
         ],
         "xaxis": "x2",
         "y": [
          337165,
          363770,
          410945,
          454323,
          479218
         ],
         "yaxis": "y2"
        },
        {
         "marker": {
          "symbol": "square"
         },
         "mode": "lines+markers",
         "name": "ALLSTATE - OTHER STRUCTURES PROTECTION",
         "type": "scatter",
         "x": [
          "2020-09-29T00:00:00",
          "2021-09-21T00:00:00",
          "2022-09-20T00:00:00",
          "2023-09-20T00:00:00",
          "2024-09-19T00:00:00"
         ],
         "xaxis": "x2",
         "y": [
          50575,
          54566,
          61642,
          68149,
          71883
         ],
         "yaxis": "y2"
        },
        {
         "marker": {
          "symbol": "square"
         },
         "mode": "lines+markers",
         "name": "ALLSTATE - PERSONAL PROPERTY PROTECTION",
         "type": "scatter",
         "x": [
          "2020-09-29T00:00:00",
          "2021-09-21T00:00:00",
          "2022-09-20T00:00:00",
          "2023-09-20T00:00:00",
          "2024-09-19T00:00:00"
         ],
         "xaxis": "x2",
         "y": [
          252874,
          272828,
          308209,
          340743,
          359414
         ],
         "yaxis": "y2"
        },
        {
         "marker": {
          "symbol": "square"
         },
         "mode": "lines+markers",
         "name": "ALLSTATE - ADDITIONAL LIVING EXPENSE",
         "type": "scatter",
         "x": [
          "2020-09-29T00:00:00",
          "2021-09-21T00:00:00",
          "2022-09-20T00:00:00",
          "2023-09-20T00:00:00",
          "2024-09-19T00:00:00"
         ],
         "xaxis": "x2",
         "y": [
          84292,
          90943,
          102737,
          113581,
          119805
         ],
         "yaxis": "y2"
        },
        {
         "marker": {
          "symbol": "square"
         },
         "mode": "lines+markers",
         "name": "ALLSTATE - FAMILY LIABILITY PROTECTION",
         "type": "scatter",
         "x": [
          "2020-09-29T00:00:00",
          "2021-09-21T00:00:00",
          "2022-09-20T00:00:00",
          "2023-09-20T00:00:00",
          "2024-09-19T00:00:00"
         ],
         "xaxis": "x2",
         "y": [
          300000,
          300000,
          300000,
          300000,
          300000
         ],
         "yaxis": "y2"
        },
        {
         "marker": {
          "symbol": "square"
         },
         "mode": "lines+markers",
         "name": "ALLSTATE - GUEST MEDICAL PROTECTION",
         "type": "scatter",
         "x": [
          "2020-09-29T00:00:00",
          "2021-09-21T00:00:00",
          "2022-09-20T00:00:00",
          "2023-09-20T00:00:00",
          "2024-09-19T00:00:00"
         ],
         "xaxis": "x2",
         "y": [
          1000,
          1000,
          1000,
          1000,
          1000
         ],
         "yaxis": "y2"
        },
        {
         "marker": {
          "symbol": "square"
         },
         "mode": "lines+markers",
         "name": "ALLSTATE - BUILDING CODES",
         "type": "scatter",
         "x": [
          "2020-09-29T00:00:00",
          "2021-09-21T00:00:00",
          "2022-09-20T00:00:00",
          "2023-09-20T00:00:00",
          "2024-09-19T00:00:00"
         ],
         "xaxis": "x2",
         "y": [
          33717,
          36377,
          41095,
          45433,
          47922
         ],
         "yaxis": "y2"
        },
        {
         "marker": {
          "symbol": "square"
         },
         "mode": "lines+markers",
         "name": "ALLSTATE - WATER BACK-UP",
         "type": "scatter",
         "x": [
          "2020-09-29T00:00:00",
          "2021-09-21T00:00:00",
          "2022-09-20T00:00:00",
          "2023-09-20T00:00:00",
          "2024-09-19T00:00:00"
         ],
         "xaxis": "x2",
         "y": [
          10000,
          10000,
          10000,
          10000,
          10000
         ],
         "yaxis": "y2"
        },
        {
         "marker": {
          "symbol": "square"
         },
         "mode": "lines+markers",
         "name": "NATIONAL GENERAL - DWELLING COVERAGE",
         "type": "scatter",
         "x": [
          "2024-10-10T00:00:00"
         ],
         "xaxis": "x2",
         "y": [
          480000
         ],
         "yaxis": "y2"
        },
        {
         "marker": {
          "symbol": "square"
         },
         "mode": "lines+markers",
         "name": "NATIONAL GENERAL - OTHER STRUCTURES PROTECTION",
         "type": "scatter",
         "x": [
          "2024-10-10T00:00:00"
         ],
         "xaxis": "x2",
         "y": [
          48000
         ],
         "yaxis": "y2"
        },
        {
         "marker": {
          "symbol": "square"
         },
         "mode": "lines+markers",
         "name": "NATIONAL GENERAL - PERSONAL PROPERTY PROTECTION",
         "type": "scatter",
         "x": [
          "2024-10-10T00:00:00"
         ],
         "xaxis": "x2",
         "y": [
          240000
         ],
         "yaxis": "y2"
        },
        {
         "marker": {
          "symbol": "square"
         },
         "mode": "lines+markers",
         "name": "NATIONAL GENERAL - ADDITIONAL LIVING EXPENSE",
         "type": "scatter",
         "x": [
          "2024-10-10T00:00:00"
         ],
         "xaxis": "x2",
         "y": [
          96000
         ],
         "yaxis": "y2"
        },
        {
         "marker": {
          "symbol": "square"
         },
         "mode": "lines+markers",
         "name": "NATIONAL GENERAL - FAMILY LIABILITY PROTECTION",
         "type": "scatter",
         "x": [
          "2024-10-10T00:00:00"
         ],
         "xaxis": "x2",
         "y": [
          500000
         ],
         "yaxis": "y2"
        },
        {
         "marker": {
          "symbol": "square"
         },
         "mode": "lines+markers",
         "name": "NATIONAL GENERAL - GUEST MEDICAL PROTECTION",
         "type": "scatter",
         "x": [
          "2024-10-10T00:00:00"
         ],
         "xaxis": "x2",
         "y": [
          5000
         ],
         "yaxis": "y2"
        },
        {
         "marker": {
          "symbol": "square"
         },
         "mode": "lines+markers",
         "name": "NATIONAL GENERAL - BUILDING CODES",
         "type": "scatter",
         "x": [
          "2024-10-10T00:00:00"
         ],
         "xaxis": "x2",
         "y": [
          48000
         ],
         "yaxis": "y2"
        },
        {
         "marker": {
          "symbol": "square"
         },
         "mode": "lines+markers",
         "name": "NATIONAL GENERAL - WATER BACK-UP",
         "type": "scatter",
         "x": [
          "2024-10-10T00:00:00"
         ],
         "xaxis": "x2",
         "y": [
          25000
         ],
         "yaxis": "y2"
        }
       ],
       "layout": {
        "annotations": [
         {
          "font": {
           "size": 16
          },
          "showarrow": false,
          "text": "Home Insurance Premiums",
          "x": 0.5,
          "xanchor": "center",
          "xref": "paper",
          "y": 1,
          "yanchor": "bottom",
          "yref": "paper"
         },
         {
          "font": {
           "size": 16
          },
          "showarrow": false,
          "text": "Home Insurance Coverages",
          "x": 0.5,
          "xanchor": "center",
          "xref": "paper",
          "y": 0.375,
          "yanchor": "bottom",
          "yref": "paper"
         }
        ],
        "autosize": true,
        "hovermode": "x unified",
        "legend": {
         "title": {
          "text": "Insurer - Premium/Coverage"
         }
        },
        "template": {
         "data": {
          "bar": [
           {
            "error_x": {
             "color": "#2a3f5f"
            },
            "error_y": {
             "color": "#2a3f5f"
            },
            "marker": {
             "line": {
              "color": "#E5ECF6",
              "width": 0.5
             },
             "pattern": {
              "fillmode": "overlay",
              "size": 10,
              "solidity": 0.2
             }
            },
            "type": "bar"
           }
          ],
          "barpolar": [
           {
            "marker": {
             "line": {
              "color": "#E5ECF6",
              "width": 0.5
             },
             "pattern": {
              "fillmode": "overlay",
              "size": 10,
              "solidity": 0.2
             }
            },
            "type": "barpolar"
           }
          ],
          "carpet": [
           {
            "aaxis": {
             "endlinecolor": "#2a3f5f",
             "gridcolor": "white",
             "linecolor": "white",
             "minorgridcolor": "white",
             "startlinecolor": "#2a3f5f"
            },
            "baxis": {
             "endlinecolor": "#2a3f5f",
             "gridcolor": "white",
             "linecolor": "white",
             "minorgridcolor": "white",
             "startlinecolor": "#2a3f5f"
            },
            "type": "carpet"
           }
          ],
          "choropleth": [
           {
            "colorbar": {
             "outlinewidth": 0,
             "ticks": ""
            },
            "type": "choropleth"
           }
          ],
          "contour": [
           {
            "colorbar": {
             "outlinewidth": 0,
             "ticks": ""
            },
            "colorscale": [
             [
              0,
              "#0d0887"
             ],
             [
              0.1111111111111111,
              "#46039f"
             ],
             [
              0.2222222222222222,
              "#7201a8"
             ],
             [
              0.3333333333333333,
              "#9c179e"
             ],
             [
              0.4444444444444444,
              "#bd3786"
             ],
             [
              0.5555555555555556,
              "#d8576b"
             ],
             [
              0.6666666666666666,
              "#ed7953"
             ],
             [
              0.7777777777777778,
              "#fb9f3a"
             ],
             [
              0.8888888888888888,
              "#fdca26"
             ],
             [
              1,
              "#f0f921"
             ]
            ],
            "type": "contour"
           }
          ],
          "contourcarpet": [
           {
            "colorbar": {
             "outlinewidth": 0,
             "ticks": ""
            },
            "type": "contourcarpet"
           }
          ],
          "heatmap": [
           {
            "colorbar": {
             "outlinewidth": 0,
             "ticks": ""
            },
            "colorscale": [
             [
              0,
              "#0d0887"
             ],
             [
              0.1111111111111111,
              "#46039f"
             ],
             [
              0.2222222222222222,
              "#7201a8"
             ],
             [
              0.3333333333333333,
              "#9c179e"
             ],
             [
              0.4444444444444444,
              "#bd3786"
             ],
             [
              0.5555555555555556,
              "#d8576b"
             ],
             [
              0.6666666666666666,
              "#ed7953"
             ],
             [
              0.7777777777777778,
              "#fb9f3a"
             ],
             [
              0.8888888888888888,
              "#fdca26"
             ],
             [
              1,
              "#f0f921"
             ]
            ],
            "type": "heatmap"
           }
          ],
          "heatmapgl": [
           {
            "colorbar": {
             "outlinewidth": 0,
             "ticks": ""
            },
            "colorscale": [
             [
              0,
              "#0d0887"
             ],
             [
              0.1111111111111111,
              "#46039f"
             ],
             [
              0.2222222222222222,
              "#7201a8"
             ],
             [
              0.3333333333333333,
              "#9c179e"
             ],
             [
              0.4444444444444444,
              "#bd3786"
             ],
             [
              0.5555555555555556,
              "#d8576b"
             ],
             [
              0.6666666666666666,
              "#ed7953"
             ],
             [
              0.7777777777777778,
              "#fb9f3a"
             ],
             [
              0.8888888888888888,
              "#fdca26"
             ],
             [
              1,
              "#f0f921"
             ]
            ],
            "type": "heatmapgl"
           }
          ],
          "histogram": [
           {
            "marker": {
             "pattern": {
              "fillmode": "overlay",
              "size": 10,
              "solidity": 0.2
             }
            },
            "type": "histogram"
           }
          ],
          "histogram2d": [
           {
            "colorbar": {
             "outlinewidth": 0,
             "ticks": ""
            },
            "colorscale": [
             [
              0,
              "#0d0887"
             ],
             [
              0.1111111111111111,
              "#46039f"
             ],
             [
              0.2222222222222222,
              "#7201a8"
             ],
             [
              0.3333333333333333,
              "#9c179e"
             ],
             [
              0.4444444444444444,
              "#bd3786"
             ],
             [
              0.5555555555555556,
              "#d8576b"
             ],
             [
              0.6666666666666666,
              "#ed7953"
             ],
             [
              0.7777777777777778,
              "#fb9f3a"
             ],
             [
              0.8888888888888888,
              "#fdca26"
             ],
             [
              1,
              "#f0f921"
             ]
            ],
            "type": "histogram2d"
           }
          ],
          "histogram2dcontour": [
           {
            "colorbar": {
             "outlinewidth": 0,
             "ticks": ""
            },
            "colorscale": [
             [
              0,
              "#0d0887"
             ],
             [
              0.1111111111111111,
              "#46039f"
             ],
             [
              0.2222222222222222,
              "#7201a8"
             ],
             [
              0.3333333333333333,
              "#9c179e"
             ],
             [
              0.4444444444444444,
              "#bd3786"
             ],
             [
              0.5555555555555556,
              "#d8576b"
             ],
             [
              0.6666666666666666,
              "#ed7953"
             ],
             [
              0.7777777777777778,
              "#fb9f3a"
             ],
             [
              0.8888888888888888,
              "#fdca26"
             ],
             [
              1,
              "#f0f921"
             ]
            ],
            "type": "histogram2dcontour"
           }
          ],
          "mesh3d": [
           {
            "colorbar": {
             "outlinewidth": 0,
             "ticks": ""
            },
            "type": "mesh3d"
           }
          ],
          "parcoords": [
           {
            "line": {
             "colorbar": {
              "outlinewidth": 0,
              "ticks": ""
             }
            },
            "type": "parcoords"
           }
          ],
          "pie": [
           {
            "automargin": true,
            "type": "pie"
           }
          ],
          "scatter": [
           {
            "fillpattern": {
             "fillmode": "overlay",
             "size": 10,
             "solidity": 0.2
            },
            "type": "scatter"
           }
          ],
          "scatter3d": [
           {
            "line": {
             "colorbar": {
              "outlinewidth": 0,
              "ticks": ""
             }
            },
            "marker": {
             "colorbar": {
              "outlinewidth": 0,
              "ticks": ""
             }
            },
            "type": "scatter3d"
           }
          ],
          "scattercarpet": [
           {
            "marker": {
             "colorbar": {
              "outlinewidth": 0,
              "ticks": ""
             }
            },
            "type": "scattercarpet"
           }
          ],
          "scattergeo": [
           {
            "marker": {
             "colorbar": {
              "outlinewidth": 0,
              "ticks": ""
             }
            },
            "type": "scattergeo"
           }
          ],
          "scattergl": [
           {
            "marker": {
             "colorbar": {
              "outlinewidth": 0,
              "ticks": ""
             }
            },
            "type": "scattergl"
           }
          ],
          "scattermapbox": [
           {
            "marker": {
             "colorbar": {
              "outlinewidth": 0,
              "ticks": ""
             }
            },
            "type": "scattermapbox"
           }
          ],
          "scatterpolar": [
           {
            "marker": {
             "colorbar": {
              "outlinewidth": 0,
              "ticks": ""
             }
            },
            "type": "scatterpolar"
           }
          ],
          "scatterpolargl": [
           {
            "marker": {
             "colorbar": {
              "outlinewidth": 0,
              "ticks": ""
             }
            },
            "type": "scatterpolargl"
           }
          ],
          "scatterternary": [
           {
            "marker": {
             "colorbar": {
              "outlinewidth": 0,
              "ticks": ""
             }
            },
            "type": "scatterternary"
           }
          ],
          "surface": [
           {
            "colorbar": {
             "outlinewidth": 0,
             "ticks": ""
            },
            "colorscale": [
             [
              0,
              "#0d0887"
             ],
             [
              0.1111111111111111,
              "#46039f"
             ],
             [
              0.2222222222222222,
              "#7201a8"
             ],
             [
              0.3333333333333333,
              "#9c179e"
             ],
             [
              0.4444444444444444,
              "#bd3786"
             ],
             [
              0.5555555555555556,
              "#d8576b"
             ],
             [
              0.6666666666666666,
              "#ed7953"
             ],
             [
              0.7777777777777778,
              "#fb9f3a"
             ],
             [
              0.8888888888888888,
              "#fdca26"
             ],
             [
              1,
              "#f0f921"
             ]
            ],
            "type": "surface"
           }
          ],
          "table": [
           {
            "cells": {
             "fill": {
              "color": "#EBF0F8"
             },
             "line": {
              "color": "white"
             }
            },
            "header": {
             "fill": {
              "color": "#C8D4E3"
             },
             "line": {
              "color": "white"
             }
            },
            "type": "table"
           }
          ]
         },
         "layout": {
          "annotationdefaults": {
           "arrowcolor": "#2a3f5f",
           "arrowhead": 0,
           "arrowwidth": 1
          },
          "autotypenumbers": "strict",
          "coloraxis": {
           "colorbar": {
            "outlinewidth": 0,
            "ticks": ""
           }
          },
          "colorscale": {
           "diverging": [
            [
             0,
             "#8e0152"
            ],
            [
             0.1,
             "#c51b7d"
            ],
            [
             0.2,
             "#de77ae"
            ],
            [
             0.3,
             "#f1b6da"
            ],
            [
             0.4,
             "#fde0ef"
            ],
            [
             0.5,
             "#f7f7f7"
            ],
            [
             0.6,
             "#e6f5d0"
            ],
            [
             0.7,
             "#b8e186"
            ],
            [
             0.8,
             "#7fbc41"
            ],
            [
             0.9,
             "#4d9221"
            ],
            [
             1,
             "#276419"
            ]
           ],
           "sequential": [
            [
             0,
             "#0d0887"
            ],
            [
             0.1111111111111111,
             "#46039f"
            ],
            [
             0.2222222222222222,
             "#7201a8"
            ],
            [
             0.3333333333333333,
             "#9c179e"
            ],
            [
             0.4444444444444444,
             "#bd3786"
            ],
            [
             0.5555555555555556,
             "#d8576b"
            ],
            [
             0.6666666666666666,
             "#ed7953"
            ],
            [
             0.7777777777777778,
             "#fb9f3a"
            ],
            [
             0.8888888888888888,
             "#fdca26"
            ],
            [
             1,
             "#f0f921"
            ]
           ],
           "sequentialminus": [
            [
             0,
             "#0d0887"
            ],
            [
             0.1111111111111111,
             "#46039f"
            ],
            [
             0.2222222222222222,
             "#7201a8"
            ],
            [
             0.3333333333333333,
             "#9c179e"
            ],
            [
             0.4444444444444444,
             "#bd3786"
            ],
            [
             0.5555555555555556,
             "#d8576b"
            ],
            [
             0.6666666666666666,
             "#ed7953"
            ],
            [
             0.7777777777777778,
             "#fb9f3a"
            ],
            [
             0.8888888888888888,
             "#fdca26"
            ],
            [
             1,
             "#f0f921"
            ]
           ]
          },
          "colorway": [
           "#636efa",
           "#EF553B",
           "#00cc96",
           "#ab63fa",
           "#FFA15A",
           "#19d3f3",
           "#FF6692",
           "#B6E880",
           "#FF97FF",
           "#FECB52"
          ],
          "font": {
           "color": "#2a3f5f"
          },
          "geo": {
           "bgcolor": "white",
           "lakecolor": "white",
           "landcolor": "#E5ECF6",
           "showlakes": true,
           "showland": true,
           "subunitcolor": "white"
          },
          "hoverlabel": {
           "align": "left"
          },
          "hovermode": "closest",
          "mapbox": {
           "style": "light"
          },
          "paper_bgcolor": "white",
          "plot_bgcolor": "#E5ECF6",
          "polar": {
           "angularaxis": {
            "gridcolor": "white",
            "linecolor": "white",
            "ticks": ""
           },
           "bgcolor": "#E5ECF6",
           "radialaxis": {
            "gridcolor": "white",
            "linecolor": "white",
            "ticks": ""
           }
          },
          "scene": {
           "xaxis": {
            "backgroundcolor": "#E5ECF6",
            "gridcolor": "white",
            "gridwidth": 2,
            "linecolor": "white",
            "showbackground": true,
            "ticks": "",
            "zerolinecolor": "white"
           },
           "yaxis": {
            "backgroundcolor": "#E5ECF6",
            "gridcolor": "white",
            "gridwidth": 2,
            "linecolor": "white",
            "showbackground": true,
            "ticks": "",
            "zerolinecolor": "white"
           },
           "zaxis": {
            "backgroundcolor": "#E5ECF6",
            "gridcolor": "white",
            "gridwidth": 2,
            "linecolor": "white",
            "showbackground": true,
            "ticks": "",
            "zerolinecolor": "white"
           }
          },
          "shapedefaults": {
           "line": {
            "color": "#2a3f5f"
           }
          },
          "ternary": {
           "aaxis": {
            "gridcolor": "white",
            "linecolor": "white",
            "ticks": ""
           },
           "baxis": {
            "gridcolor": "white",
            "linecolor": "white",
            "ticks": ""
           },
           "bgcolor": "#E5ECF6",
           "caxis": {
            "gridcolor": "white",
            "linecolor": "white",
            "ticks": ""
           }
          },
          "title": {
           "x": 0.05
          },
          "xaxis": {
           "automargin": true,
           "gridcolor": "white",
           "linecolor": "white",
           "ticks": "",
           "title": {
            "standoff": 15
           },
           "zerolinecolor": "white",
           "zerolinewidth": 2
          },
          "yaxis": {
           "automargin": true,
           "gridcolor": "white",
           "linecolor": "white",
           "ticks": "",
           "title": {
            "standoff": 15
           },
           "zerolinecolor": "white",
           "zerolinewidth": 2
          }
         }
        },
        "title": {
         "text": "Home Insurance Premiums and Coverages"
        },
        "xaxis": {
         "anchor": "y",
         "autorange": true,
         "domain": [
          0,
          1
         ],
         "matches": "x2",
         "range": [
          "2020-07-02 02:00:40.2235",
          "2025-01-06 21:59:19.7765"
         ],
         "showticklabels": false,
         "title": {
          "text": "Date"
         },
         "type": "date"
        },
        "xaxis2": {
         "anchor": "y2",
         "autorange": true,
         "domain": [
          0,
          1
         ],
         "range": [
          "2020-07-02 02:00:40.2235",
          "2025-01-06 21:59:19.7765"
         ],
         "type": "date"
        },
        "yaxis": {
         "anchor": "x",
         "autorange": true,
         "domain": [
          0.625,
          1
         ],
         "range": [
          929.3072118959108,
          2729.0127881040894
         ],
         "title": {
          "text": "Amount"
         },
         "type": "linear"
        },
        "yaxis2": {
         "anchor": "x2",
         "autorange": true,
         "domain": [
          0,
          0.375
         ],
         "range": [
          -37027.88104089219,
          538027.8810408922
         ],
         "type": "linear"
        }
       }
      },
      "image/png": "[encoded data removed]",
      "text/html": [
       "<div>                            <div id=\"ccbf89bc-40f1-4924-b021-004ead29bfc7\" class=\"plotly-graph-div\" style=\"height:800px; width:100%;\"></div>            <script type=\"text/javascript\">                require([\"plotly\"], function(Plotly) {                    window.PLOTLYENV=window.PLOTLYENV || {};                                    if (document.getElementById(\"ccbf89bc-40f1-4924-b021-004ead29bfc7\")) {                    Plotly.newPlot(                        \"ccbf89bc-40f1-4924-b021-004ead29bfc7\",                        [{\"marker\":{\"symbol\":\"circle\"},\"mode\":\"lines+markers\",\"name\":\"ALLSTATE\",\"x\":[\"2020-09-29T00:00:00\",\"2021-09-21T00:00:00\",\"2022-09-20T00:00:00\",\"2023-09-20T00:00:00\",\"2024-09-19T00:00:00\"],\"y\":[1048.32,1334.49,1507.72,1850.19,2166.5],\"type\":\"scatter\",\"xaxis\":\"x\",\"yaxis\":\"y\"},{\"marker\":{\"symbol\":\"circle\"},\"mode\":\"lines+markers\",\"name\":\"NATIONAL GENERAL\",\"x\":[\"2024-10-10T00:00:00\"],\"y\":[2610.0],\"type\":\"scatter\",\"xaxis\":\"x\",\"yaxis\":\"y\"},{\"marker\":{\"symbol\":\"square\"},\"mode\":\"lines+markers\",\"name\":\"ALLSTATE - DWELLING COVERAGE\",\"x\":[\"2020-09-29T00:00:00\",\"2021-09-21T00:00:00\",\"2022-09-20T00:00:00\",\"2023-09-20T00:00:00\",\"2024-09-19T00:00:00\"],\"y\":[337165,363770,410945,454323,479218],\"type\":\"scatter\",\"xaxis\":\"x2\",\"yaxis\":\"y2\"},{\"marker\":{\"symbol\":\"square\"},\"mode\":\"lines+markers\",\"name\":\"ALLSTATE - OTHER STRUCTURES PROTECTION\",\"x\":[\"2020-09-29T00:00:00\",\"2021-09-21T00:00:00\",\"2022-09-20T00:00:00\",\"2023-09-20T00:00:00\",\"2024-09-19T00:00:00\"],\"y\":[50575,54566,61642,68149,71883],\"type\":\"scatter\",\"xaxis\":\"x2\",\"yaxis\":\"y2\"},{\"marker\":{\"symbol\":\"square\"},\"mode\":\"lines+markers\",\"name\":\"ALLSTATE - PERSONAL PROPERTY PROTECTION\",\"x\":[\"2020-09-29T00:00:00\",\"2021-09-21T00:00:00\",\"2022-09-20T00:00:00\",\"2023-09-20T00:00:00\",\"2024-09-19T00:00:00\"],\"y\":[252874,272828,308209,340743,359414],\"type\":\"scatter\",\"xaxis\":\"x2\",\"yaxis\":\"y2\"},{\"marker\":{\"symbol\":\"square\"},\"mode\":\"lines+markers\",\"name\":\"ALLSTATE - ADDITIONAL LIVING EXPENSE\",\"x\":[\"2020-09-29T00:00:00\",\"2021-09-21T00:00:00\",\"2022-09-20T00:00:00\",\"2023-09-20T00:00:00\",\"2024-09-19T00:00:00\"],\"y\":[84292,90943,102737,113581,119805],\"type\":\"scatter\",\"xaxis\":\"x2\",\"yaxis\":\"y2\"},{\"marker\":{\"symbol\":\"square\"},\"mode\":\"lines+markers\",\"name\":\"ALLSTATE - FAMILY LIABILITY PROTECTION\",\"x\":[\"2020-09-29T00:00:00\",\"2021-09-21T00:00:00\",\"2022-09-20T00:00:00\",\"2023-09-20T00:00:00\",\"2024-09-19T00:00:00\"],\"y\":[300000,300000,300000,300000,300000],\"type\":\"scatter\",\"xaxis\":\"x2\",\"yaxis\":\"y2\"},{\"marker\":{\"symbol\":\"square\"},\"mode\":\"lines+markers\",\"name\":\"ALLSTATE - GUEST MEDICAL PROTECTION\",\"x\":[\"2020-09-29T00:00:00\",\"2021-09-21T00:00:00\",\"2022-09-20T00:00:00\",\"2023-09-20T00:00:00\",\"2024-09-19T00:00:00\"],\"y\":[1000,1000,1000,1000,1000],\"type\":\"scatter\",\"xaxis\":\"x2\",\"yaxis\":\"y2\"},{\"marker\":{\"symbol\":\"square\"},\"mode\":\"lines+markers\",\"name\":\"ALLSTATE - BUILDING CODES\",\"x\":[\"2020-09-29T00:00:00\",\"2021-09-21T00:00:00\",\"2022-09-20T00:00:00\",\"2023-09-20T00:00:00\",\"2024-09-19T00:00:00\"],\"y\":[33717,36377,41095,45433,47922],\"type\":\"scatter\",\"xaxis\":\"x2\",\"yaxis\":\"y2\"},{\"marker\":{\"symbol\":\"square\"},\"mode\":\"lines+markers\",\"name\":\"ALLSTATE - WATER BACK-UP\",\"x\":[\"2020-09-29T00:00:00\",\"2021-09-21T00:00:00\",\"2022-09-20T00:00:00\",\"2023-09-20T00:00:00\",\"2024-09-19T00:00:00\"],\"y\":[10000,10000,10000,10000,10000],\"type\":\"scatter\",\"xaxis\":\"x2\",\"yaxis\":\"y2\"},{\"marker\":{\"symbol\":\"square\"},\"mode\":\"lines+markers\",\"name\":\"NATIONAL GENERAL - DWELLING COVERAGE\",\"x\":[\"2024-10-10T00:00:00\"],\"y\":[480000],\"type\":\"scatter\",\"xaxis\":\"x2\",\"yaxis\":\"y2\"},{\"marker\":{\"symbol\":\"square\"},\"mode\":\"lines+markers\",\"name\":\"NATIONAL GENERAL - OTHER STRUCTURES PROTECTION\",\"x\":[\"2024-10-10T00:00:00\"],\"y\":[48000],\"type\":\"scatter\",\"xaxis\":\"x2\",\"yaxis\":\"y2\"},{\"marker\":{\"symbol\":\"square\"},\"mode\":\"lines+markers\",\"name\":\"NATIONAL GENERAL - PERSONAL PROPERTY PROTECTION\",\"x\":[\"2024-10-10T00:00:00\"],\"y\":[240000],\"type\":\"scatter\",\"xaxis\":\"x2\",\"yaxis\":\"y2\"},{\"marker\":{\"symbol\":\"square\"},\"mode\":\"lines+markers\",\"name\":\"NATIONAL GENERAL - ADDITIONAL LIVING EXPENSE\",\"x\":[\"2024-10-10T00:00:00\"],\"y\":[96000],\"type\":\"scatter\",\"xaxis\":\"x2\",\"yaxis\":\"y2\"},{\"marker\":{\"symbol\":\"square\"},\"mode\":\"lines+markers\",\"name\":\"NATIONAL GENERAL - FAMILY LIABILITY PROTECTION\",\"x\":[\"2024-10-10T00:00:00\"],\"y\":[500000],\"type\":\"scatter\",\"xaxis\":\"x2\",\"yaxis\":\"y2\"},{\"marker\":{\"symbol\":\"square\"},\"mode\":\"lines+markers\",\"name\":\"NATIONAL GENERAL - GUEST MEDICAL PROTECTION\",\"x\":[\"2024-10-10T00:00:00\"],\"y\":[5000],\"type\":\"scatter\",\"xaxis\":\"x2\",\"yaxis\":\"y2\"},{\"marker\":{\"symbol\":\"square\"},\"mode\":\"lines+markers\",\"name\":\"NATIONAL GENERAL - BUILDING CODES\",\"x\":[\"2024-10-10T00:00:00\"],\"y\":[48000],\"type\":\"scatter\",\"xaxis\":\"x2\",\"yaxis\":\"y2\"},{\"marker\":{\"symbol\":\"square\"},\"mode\":\"lines+markers\",\"name\":\"NATIONAL GENERAL - WATER BACK-UP\",\"x\":[\"2024-10-10T00:00:00\"],\"y\":[25000],\"type\":\"scatter\",\"xaxis\":\"x2\",\"yaxis\":\"y2\"}],                        {\"template\":{\"data\":{\"histogram2dcontour\":[{\"type\":\"histogram2dcontour\",\"colorbar\":{\"outlinewidth\":0,\"ticks\":\"\"},\"colorscale\":[[0.0,\"#0d0887\"],[0.1111111111111111,\"#46039f\"],[0.2222222222222222,\"#7201a8\"],[0.3333333333333333,\"#9c179e\"],[0.4444444444444444,\"#bd3786\"],[0.5555555555555556,\"#d8576b\"],[0.6666666666666666,\"#ed7953\"],[0.7777777777777778,\"#fb9f3a\"],[0.8888888888888888,\"#fdca26\"],[1.0,\"#f0f921\"]]}],\"choropleth\":[{\"type\":\"choropleth\",\"colorbar\":{\"outlinewidth\":0,\"ticks\":\"\"}}],\"histogram2d\":[{\"type\":\"histogram2d\",\"colorbar\":{\"outlinewidth\":0,\"ticks\":\"\"},\"colorscale\":[[0.0,\"#0d0887\"],[0.1111111111111111,\"#46039f\"],[0.2222222222222222,\"#7201a8\"],[0.3333333333333333,\"#9c179e\"],[0.4444444444444444,\"#bd3786\"],[0.5555555555555556,\"#d8576b\"],[0.6666666666666666,\"#ed7953\"],[0.7777777777777778,\"#fb9f3a\"],[0.8888888888888888,\"#fdca26\"],[1.0,\"#f0f921\"]]}],\"heatmap\":[{\"type\":\"heatmap\",\"colorbar\":{\"outlinewidth\":0,\"ticks\":\"\"},\"colorscale\":[[0.0,\"#0d0887\"],[0.1111111111111111,\"#46039f\"],[0.2222222222222222,\"#7201a8\"],[0.3333333333333333,\"#9c179e\"],[0.4444444444444444,\"#bd3786\"],[0.5555555555555556,\"#d8576b\"],[0.6666666666666666,\"#ed7953\"],[0.7777777777777778,\"#fb9f3a\"],[0.8888888888888888,\"#fdca26\"],[1.0,\"#f0f921\"]]}],\"heatmapgl\":[{\"type\":\"heatmapgl\",\"colorbar\":{\"outlinewidth\":0,\"ticks\":\"\"},\"colorscale\":[[0.0,\"#0d0887\"],[0.1111111111111111,\"#46039f\"],[0.2222222222222222,\"#7201a8\"],[0.3333333333333333,\"#9c179e\"],[0.4444444444444444,\"#bd3786\"],[0.5555555555555556,\"#d8576b\"],[0.6666666666666666,\"#ed7953\"],[0.7777777777777778,\"#fb9f3a\"],[0.8888888888888888,\"#fdca26\"],[1.0,\"#f0f921\"]]}],\"contourcarpet\":[{\"type\":\"contourcarpet\",\"colorbar\":{\"outlinewidth\":0,\"ticks\":\"\"}}],\"contour\":[{\"type\":\"contour\",\"colorbar\":{\"outlinewidth\":0,\"ticks\":\"\"},\"colorscale\":[[0.0,\"#0d0887\"],[0.1111111111111111,\"#46039f\"],[0.2222222222222222,\"#7201a8\"],[0.3333333333333333,\"#9c179e\"],[0.4444444444444444,\"#bd3786\"],[0.5555555555555556,\"#d8576b\"],[0.6666666666666666,\"#ed7953\"],[0.7777777777777778,\"#fb9f3a\"],[0.8888888888888888,\"#fdca26\"],[1.0,\"#f0f921\"]]}],\"surface\":[{\"type\":\"surface\",\"colorbar\":{\"outlinewidth\":0,\"ticks\":\"\"},\"colorscale\":[[0.0,\"#0d0887\"],[0.1111111111111111,\"#46039f\"],[0.2222222222222222,\"#7201a8\"],[0.3333333333333333,\"#9c179e\"],[0.4444444444444444,\"#bd3786\"],[0.5555555555555556,\"#d8576b\"],[0.6666666666666666,\"#ed7953\"],[0.7777777777777778,\"#fb9f3a\"],[0.8888888888888888,\"#fdca26\"],[1.0,\"#f0f921\"]]}],\"mesh3d\":[{\"type\":\"mesh3d\",\"colorbar\":{\"outlinewidth\":0,\"ticks\":\"\"}}],\"scatter\":[{\"fillpattern\":{\"fillmode\":\"overlay\",\"size\":10,\"solidity\":0.2},\"type\":\"scatter\"}],\"parcoords\":[{\"type\":\"parcoords\",\"line\":{\"colorbar\":{\"outlinewidth\":0,\"ticks\":\"\"}}}],\"scatterpolargl\":[{\"type\":\"scatterpolargl\",\"marker\":{\"colorbar\":{\"outlinewidth\":0,\"ticks\":\"\"}}}],\"bar\":[{\"error_x\":{\"color\":\"#2a3f5f\"},\"error_y\":{\"color\":\"#2a3f5f\"},\"marker\":{\"line\":{\"color\":\"#E5ECF6\",\"width\":0.5},\"pattern\":{\"fillmode\":\"overlay\",\"size\":10,\"solidity\":0.2}},\"type\":\"bar\"}],\"scattergeo\":[{\"type\":\"scattergeo\",\"marker\":{\"colorbar\":{\"outlinewidth\":0,\"ticks\":\"\"}}}],\"scatterpolar\":[{\"type\":\"scatterpolar\",\"marker\":{\"colorbar\":{\"outlinewidth\":0,\"ticks\":\"\"}}}],\"histogram\":[{\"marker\":{\"pattern\":{\"fillmode\":\"overlay\",\"size\":10,\"solidity\":0.2}},\"type\":\"histogram\"}],\"scattergl\":[{\"type\":\"scattergl\",\"marker\":{\"colorbar\":{\"outlinewidth\":0,\"ticks\":\"\"}}}],\"scatter3d\":[{\"type\":\"scatter3d\",\"line\":{\"colorbar\":{\"outlinewidth\":0,\"ticks\":\"\"}},\"marker\":{\"colorbar\":{\"outlinewidth\":0,\"ticks\":\"\"}}}],\"scattermapbox\":[{\"type\":\"scattermapbox\",\"marker\":{\"colorbar\":{\"outlinewidth\":0,\"ticks\":\"\"}}}],\"scatterternary\":[{\"type\":\"scatterternary\",\"marker\":{\"colorbar\":{\"outlinewidth\":0,\"ticks\":\"\"}}}],\"scattercarpet\":[{\"type\":\"scattercarpet\",\"marker\":{\"colorbar\":{\"outlinewidth\":0,\"ticks\":\"\"}}}],\"carpet\":[{\"aaxis\":{\"endlinecolor\":\"#2a3f5f\",\"gridcolor\":\"white\",\"linecolor\":\"white\",\"minorgridcolor\":\"white\",\"startlinecolor\":\"#2a3f5f\"},\"baxis\":{\"endlinecolor\":\"#2a3f5f\",\"gridcolor\":\"white\",\"linecolor\":\"white\",\"minorgridcolor\":\"white\",\"startlinecolor\":\"#2a3f5f\"},\"type\":\"carpet\"}],\"table\":[{\"cells\":{\"fill\":{\"color\":\"#EBF0F8\"},\"line\":{\"color\":\"white\"}},\"header\":{\"fill\":{\"color\":\"#C8D4E3\"},\"line\":{\"color\":\"white\"}},\"type\":\"table\"}],\"barpolar\":[{\"marker\":{\"line\":{\"color\":\"#E5ECF6\",\"width\":0.5},\"pattern\":{\"fillmode\":\"overlay\",\"size\":10,\"solidity\":0.2}},\"type\":\"barpolar\"}],\"pie\":[{\"automargin\":true,\"type\":\"pie\"}]},\"layout\":{\"autotypenumbers\":\"strict\",\"colorway\":[\"#636efa\",\"#EF553B\",\"#00cc96\",\"#ab63fa\",\"#FFA15A\",\"#19d3f3\",\"#FF6692\",\"#B6E880\",\"#FF97FF\",\"#FECB52\"],\"font\":{\"color\":\"#2a3f5f\"},\"hovermode\":\"closest\",\"hoverlabel\":{\"align\":\"left\"},\"paper_bgcolor\":\"white\",\"plot_bgcolor\":\"#E5ECF6\",\"polar\":{\"bgcolor\":\"#E5ECF6\",\"angularaxis\":{\"gridcolor\":\"white\",\"linecolor\":\"white\",\"ticks\":\"\"},\"radialaxis\":{\"gridcolor\":\"white\",\"linecolor\":\"white\",\"ticks\":\"\"}},\"ternary\":{\"bgcolor\":\"#E5ECF6\",\"aaxis\":{\"gridcolor\":\"white\",\"linecolor\":\"white\",\"ticks\":\"\"},\"baxis\":{\"gridcolor\":\"white\",\"linecolor\":\"white\",\"ticks\":\"\"},\"caxis\":{\"gridcolor\":\"white\",\"linecolor\":\"white\",\"ticks\":\"\"}},\"coloraxis\":{\"colorbar\":{\"outlinewidth\":0,\"ticks\":\"\"}},\"colorscale\":{\"sequential\":[[0.0,\"#0d0887\"],[0.1111111111111111,\"#46039f\"],[0.2222222222222222,\"#7201a8\"],[0.3333333333333333,\"#9c179e\"],[0.4444444444444444,\"#bd3786\"],[0.5555555555555556,\"#d8576b\"],[0.6666666666666666,\"#ed7953\"],[0.7777777777777778,\"#fb9f3a\"],[0.8888888888888888,\"#fdca26\"],[1.0,\"#f0f921\"]],\"sequentialminus\":[[0.0,\"#0d0887\"],[0.1111111111111111,\"#46039f\"],[0.2222222222222222,\"#7201a8\"],[0.3333333333333333,\"#9c179e\"],[0.4444444444444444,\"#bd3786\"],[0.5555555555555556,\"#d8576b\"],[0.6666666666666666,\"#ed7953\"],[0.7777777777777778,\"#fb9f3a\"],[0.8888888888888888,\"#fdca26\"],[1.0,\"#f0f921\"]],\"diverging\":[[0,\"#8e0152\"],[0.1,\"#c51b7d\"],[0.2,\"#de77ae\"],[0.3,\"#f1b6da\"],[0.4,\"#fde0ef\"],[0.5,\"#f7f7f7\"],[0.6,\"#e6f5d0\"],[0.7,\"#b8e186\"],[0.8,\"#7fbc41\"],[0.9,\"#4d9221\"],[1,\"#276419\"]]},\"xaxis\":{\"gridcolor\":\"white\",\"linecolor\":\"white\",\"ticks\":\"\",\"title\":{\"standoff\":15},\"zerolinecolor\":\"white\",\"automargin\":true,\"zerolinewidth\":2},\"yaxis\":{\"gridcolor\":\"white\",\"linecolor\":\"white\",\"ticks\":\"\",\"title\":{\"standoff\":15},\"zerolinecolor\":\"white\",\"automargin\":true,\"zerolinewidth\":2},\"scene\":{\"xaxis\":{\"backgroundcolor\":\"#E5ECF6\",\"gridcolor\":\"white\",\"linecolor\":\"white\",\"showbackground\":true,\"ticks\":\"\",\"zerolinecolor\":\"white\",\"gridwidth\":2},\"yaxis\":{\"backgroundcolor\":\"#E5ECF6\",\"gridcolor\":\"white\",\"linecolor\":\"white\",\"showbackground\":true,\"ticks\":\"\",\"zerolinecolor\":\"white\",\"gridwidth\":2},\"zaxis\":{\"backgroundcolor\":\"#E5ECF6\",\"gridcolor\":\"white\",\"linecolor\":\"white\",\"showbackground\":true,\"ticks\":\"\",\"zerolinecolor\":\"white\",\"gridwidth\":2}},\"shapedefaults\":{\"line\":{\"color\":\"#2a3f5f\"}},\"annotationdefaults\":{\"arrowcolor\":\"#2a3f5f\",\"arrowhead\":0,\"arrowwidth\":1},\"geo\":{\"bgcolor\":\"white\",\"landcolor\":\"#E5ECF6\",\"subunitcolor\":\"white\",\"showland\":true,\"showlakes\":true,\"lakecolor\":\"white\"},\"title\":{\"x\":0.05},\"mapbox\":{\"style\":\"light\"}}},\"xaxis\":{\"anchor\":\"y\",\"domain\":[0.0,1.0],\"matches\":\"x2\",\"showticklabels\":false,\"title\":{\"text\":\"Date\"}},\"yaxis\":{\"anchor\":\"x\",\"domain\":[0.625,1.0],\"title\":{\"text\":\"Amount\"}},\"xaxis2\":{\"anchor\":\"y2\",\"domain\":[0.0,1.0]},\"yaxis2\":{\"anchor\":\"x2\",\"domain\":[0.0,0.375]},\"annotations\":[{\"font\":{\"size\":16},\"showarrow\":false,\"text\":\"Home Insurance Premiums\",\"x\":0.5,\"xanchor\":\"center\",\"xref\":\"paper\",\"y\":1.0,\"yanchor\":\"bottom\",\"yref\":\"paper\"},{\"font\":{\"size\":16},\"showarrow\":false,\"text\":\"Home Insurance Coverages\",\"x\":0.5,\"xanchor\":\"center\",\"xref\":\"paper\",\"y\":0.375,\"yanchor\":\"bottom\",\"yref\":\"paper\"}],\"title\":{\"text\":\"Home Insurance Premiums and Coverages\"},\"legend\":{\"title\":{\"text\":\"Insurer - Premium\\u002fCoverage\"}},\"hovermode\":\"x unified\",\"height\":800},                        {\"responsive\": true}                    ).then(function(){\n",
       "                            \n",
       "var gd = document.getElementById('ccbf89bc-40f1-4924-b021-004ead29bfc7');\n",
       "var x = new MutationObserver(function (mutations, observer) {{\n",
       "        var display = window.getComputedStyle(gd).display;\n",
       "        if (!display || display === 'none') {{\n",
       "            console.log([gd, 'removed!']);\n",
       "            Plotly.purge(gd);\n",
       "            observer.disconnect();\n",
       "        }}\n",
       "}});\n",
       "\n",
       "// Listen for the removal of the full notebook cells\n",
       "var notebookContainer = gd.closest('#notebook-container');\n",
       "if (notebookContainer) {{\n",
       "    x.observe(notebookContainer, {childList: true});\n",
       "}}\n",
       "\n",
       "// Listen for the clearing of the current output cell\n",
       "var outputEl = gd.closest('.output');\n",
       "if (outputEl) {{\n",
       "    x.observe(outputEl, {childList: true});\n",
       "}}\n",
       "\n",
       "                        })                };                });            </script>        </div>"
      ]
     },
     "metadata": {},
     "output_type": "display_data"
    }
   ],
   "source": [
    "home_premiums = go.Figure()\n",
    "home_coverages = go.Figure()\n",
    "\n",
    "home = make_subplots(rows=2, cols=1, shared_xaxes=True, subplot_titles=('Home Insurance Premiums', 'Home Insurance Coverages'))\n",
    "\n",
    "for insurer in premiums_df['INSURER'].unique():\n",
    "    insurer_df = premiums_df[premiums_df['INSURER'] == insurer]\n",
    "    home.add_trace(go.Scatter(\n",
    "        x=insurer_df['DATE'],\n",
    "        y=insurer_df['PREMIUM'],\n",
    "        mode='lines+markers',\n",
    "        name=insurer,\n",
    "        marker=dict(symbol='circle')\n",
    "    ), row=1, col=1)\n",
    "\n",
    "# home_premiums.update_layout(\n",
    "#     title='Home Insurance Premiums',\n",
    "#     xaxis_title='Date',\n",
    "#     yaxis_title='Premium',\n",
    "#     legend_title='Insurer',\n",
    "#     hovermode='x unified'\n",
    "# )\n",
    "\n",
    "for insurer in coverages_df['INSURER'].unique():\n",
    "    insurer_df = coverages_df[coverages_df['INSURER'] == insurer]\n",
    "    for col in coverages_df.columns[2:]:\n",
    "        home.add_trace(go.Scatter(\n",
    "            x=insurer_df['DATE'],\n",
    "            y=insurer_df[col],\n",
    "            mode='lines+markers',\n",
    "            name=f'{insurer} - {col}',\n",
    "            marker=dict(symbol='square')\n",
    "        ), row=2, col=1)\n",
    "\n",
    "# home_coverages.update_layout(\n",
    "#     title='Home Insurance Coverages',\n",
    "#     xaxis_title='Date',\n",
    "#     yaxis_title='Amount',\n",
    "#     legend_title='Insurer - Coverage',\n",
    "#     hovermode='x unified'\n",
    "# )\n",
    "\n",
    "home.update_layout(\n",
    "    title='Home Insurance Premiums and Coverages',\n",
    "    xaxis_title='Date',\n",
    "    yaxis_title='Amount',\n",
    "    legend_title='Insurer - Premium/Coverage',\n",
    "    hovermode='x unified',\n",
    "    height=800\n",
    ")\n",
    "\n",
    "# home_premiums.show()\n",
    "# home_coverages.show()\n",
    "\n",
    "home.show()"
   ]
  },
  {
   "cell_type": "code",
   "execution_count": 221,
   "id": "5e874421-1d7f-498a-9d27-ff2d0810c36f",
   "metadata": {},
   "outputs": [
    {
     "data": {
      "application/vnd.plotly.v1+json": {
       "config": {
        "plotlyServerURL": "https://plot.ly"
       },
       "data": [
        {
         "marker": {
          "size": 10,
          "symbol": "circle"
         },
         "mode": "lines+markers",
         "name": "Premium - ALLSTATE",
         "type": "scatter",
         "x": [
          "2020-09-29T00:00:00",
          "2021-09-21T00:00:00",
          "2022-09-20T00:00:00",
          "2023-09-20T00:00:00",
          "2024-09-19T00:00:00"
         ],
         "xaxis": "x",
         "y": [
          1048.32,
          1334.49,
          1507.72,
          1850.19,
          2166.5
         ],
         "yaxis": "y"
        },
        {
         "marker": {
          "size": 10,
          "symbol": "circle"
         },
         "mode": "lines+markers",
         "name": "Premium - NATIONAL GENERAL",
         "type": "scatter",
         "x": [
          "2024-10-10T00:00:00"
         ],
         "xaxis": "x",
         "y": [
          2610
         ],
         "yaxis": "y"
        },
        {
         "mode": "lines+markers",
         "name": "DWELLING COVERAGE",
         "type": "scatter",
         "x": [
          "2020-09-29T00:00:00",
          "2021-09-21T00:00:00",
          "2022-09-20T00:00:00",
          "2023-09-20T00:00:00",
          "2024-09-19T00:00:00",
          "2024-10-10T00:00:00"
         ],
         "xaxis": "x2",
         "y": [
          337165,
          363770,
          410945,
          454323,
          479218,
          480000
         ],
         "yaxis": "y2"
        },
        {
         "mode": "lines+markers",
         "name": "OTHER STRUCTURES PROTECTION",
         "type": "scatter",
         "x": [
          "2020-09-29T00:00:00",
          "2021-09-21T00:00:00",
          "2022-09-20T00:00:00",
          "2023-09-20T00:00:00",
          "2024-09-19T00:00:00",
          "2024-10-10T00:00:00"
         ],
         "xaxis": "x2",
         "y": [
          50575,
          54566,
          61642,
          68149,
          71883,
          48000
         ],
         "yaxis": "y2"
        },
        {
         "mode": "lines+markers",
         "name": "PERSONAL PROPERTY PROTECTION",
         "type": "scatter",
         "x": [
          "2020-09-29T00:00:00",
          "2021-09-21T00:00:00",
          "2022-09-20T00:00:00",
          "2023-09-20T00:00:00",
          "2024-09-19T00:00:00",
          "2024-10-10T00:00:00"
         ],
         "xaxis": "x2",
         "y": [
          252874,
          272828,
          308209,
          340743,
          359414,
          240000
         ],
         "yaxis": "y2"
        },
        {
         "mode": "lines+markers",
         "name": "ADDITIONAL LIVING EXPENSE",
         "type": "scatter",
         "x": [
          "2020-09-29T00:00:00",
          "2021-09-21T00:00:00",
          "2022-09-20T00:00:00",
          "2023-09-20T00:00:00",
          "2024-09-19T00:00:00",
          "2024-10-10T00:00:00"
         ],
         "xaxis": "x2",
         "y": [
          84292,
          90943,
          102737,
          113581,
          119805,
          96000
         ],
         "yaxis": "y2"
        },
        {
         "mode": "lines+markers",
         "name": "FAMILY LIABILITY PROTECTION",
         "type": "scatter",
         "x": [
          "2020-09-29T00:00:00",
          "2021-09-21T00:00:00",
          "2022-09-20T00:00:00",
          "2023-09-20T00:00:00",
          "2024-09-19T00:00:00",
          "2024-10-10T00:00:00"
         ],
         "xaxis": "x2",
         "y": [
          300000,
          300000,
          300000,
          300000,
          300000,
          500000
         ],
         "yaxis": "y2"
        },
        {
         "mode": "lines+markers",
         "name": "GUEST MEDICAL PROTECTION",
         "type": "scatter",
         "x": [
          "2020-09-29T00:00:00",
          "2021-09-21T00:00:00",
          "2022-09-20T00:00:00",
          "2023-09-20T00:00:00",
          "2024-09-19T00:00:00",
          "2024-10-10T00:00:00"
         ],
         "xaxis": "x2",
         "y": [
          1000,
          1000,
          1000,
          1000,
          1000,
          5000
         ],
         "yaxis": "y2"
        },
        {
         "mode": "lines+markers",
         "name": "BUILDING CODES",
         "type": "scatter",
         "x": [
          "2020-09-29T00:00:00",
          "2021-09-21T00:00:00",
          "2022-09-20T00:00:00",
          "2023-09-20T00:00:00",
          "2024-09-19T00:00:00",
          "2024-10-10T00:00:00"
         ],
         "xaxis": "x2",
         "y": [
          33717,
          36377,
          41095,
          45433,
          47922,
          48000
         ],
         "yaxis": "y2"
        },
        {
         "mode": "lines+markers",
         "name": "WATER BACK-UP",
         "type": "scatter",
         "x": [
          "2020-09-29T00:00:00",
          "2021-09-21T00:00:00",
          "2022-09-20T00:00:00",
          "2023-09-20T00:00:00",
          "2024-09-19T00:00:00",
          "2024-10-10T00:00:00"
         ],
         "xaxis": "x2",
         "y": [
          10000,
          10000,
          10000,
          10000,
          10000,
          25000
         ],
         "yaxis": "y2"
        }
       ],
       "layout": {
        "autosize": true,
        "dragmode": "zoom",
        "hovermode": "x unified",
        "template": {
         "data": {
          "bar": [
           {
            "error_x": {
             "color": "#2a3f5f"
            },
            "error_y": {
             "color": "#2a3f5f"
            },
            "marker": {
             "line": {
              "color": "#E5ECF6",
              "width": 0.5
             },
             "pattern": {
              "fillmode": "overlay",
              "size": 10,
              "solidity": 0.2
             }
            },
            "type": "bar"
           }
          ],
          "barpolar": [
           {
            "marker": {
             "line": {
              "color": "#E5ECF6",
              "width": 0.5
             },
             "pattern": {
              "fillmode": "overlay",
              "size": 10,
              "solidity": 0.2
             }
            },
            "type": "barpolar"
           }
          ],
          "carpet": [
           {
            "aaxis": {
             "endlinecolor": "#2a3f5f",
             "gridcolor": "white",
             "linecolor": "white",
             "minorgridcolor": "white",
             "startlinecolor": "#2a3f5f"
            },
            "baxis": {
             "endlinecolor": "#2a3f5f",
             "gridcolor": "white",
             "linecolor": "white",
             "minorgridcolor": "white",
             "startlinecolor": "#2a3f5f"
            },
            "type": "carpet"
           }
          ],
          "choropleth": [
           {
            "colorbar": {
             "outlinewidth": 0,
             "ticks": ""
            },
            "type": "choropleth"
           }
          ],
          "contour": [
           {
            "colorbar": {
             "outlinewidth": 0,
             "ticks": ""
            },
            "colorscale": [
             [
              0,
              "#0d0887"
             ],
             [
              0.1111111111111111,
              "#46039f"
             ],
             [
              0.2222222222222222,
              "#7201a8"
             ],
             [
              0.3333333333333333,
              "#9c179e"
             ],
             [
              0.4444444444444444,
              "#bd3786"
             ],
             [
              0.5555555555555556,
              "#d8576b"
             ],
             [
              0.6666666666666666,
              "#ed7953"
             ],
             [
              0.7777777777777778,
              "#fb9f3a"
             ],
             [
              0.8888888888888888,
              "#fdca26"
             ],
             [
              1,
              "#f0f921"
             ]
            ],
            "type": "contour"
           }
          ],
          "contourcarpet": [
           {
            "colorbar": {
             "outlinewidth": 0,
             "ticks": ""
            },
            "type": "contourcarpet"
           }
          ],
          "heatmap": [
           {
            "colorbar": {
             "outlinewidth": 0,
             "ticks": ""
            },
            "colorscale": [
             [
              0,
              "#0d0887"
             ],
             [
              0.1111111111111111,
              "#46039f"
             ],
             [
              0.2222222222222222,
              "#7201a8"
             ],
             [
              0.3333333333333333,
              "#9c179e"
             ],
             [
              0.4444444444444444,
              "#bd3786"
             ],
             [
              0.5555555555555556,
              "#d8576b"
             ],
             [
              0.6666666666666666,
              "#ed7953"
             ],
             [
              0.7777777777777778,
              "#fb9f3a"
             ],
             [
              0.8888888888888888,
              "#fdca26"
             ],
             [
              1,
              "#f0f921"
             ]
            ],
            "type": "heatmap"
           }
          ],
          "heatmapgl": [
           {
            "colorbar": {
             "outlinewidth": 0,
             "ticks": ""
            },
            "colorscale": [
             [
              0,
              "#0d0887"
             ],
             [
              0.1111111111111111,
              "#46039f"
             ],
             [
              0.2222222222222222,
              "#7201a8"
             ],
             [
              0.3333333333333333,
              "#9c179e"
             ],
             [
              0.4444444444444444,
              "#bd3786"
             ],
             [
              0.5555555555555556,
              "#d8576b"
             ],
             [
              0.6666666666666666,
              "#ed7953"
             ],
             [
              0.7777777777777778,
              "#fb9f3a"
             ],
             [
              0.8888888888888888,
              "#fdca26"
             ],
             [
              1,
              "#f0f921"
             ]
            ],
            "type": "heatmapgl"
           }
          ],
          "histogram": [
           {
            "marker": {
             "pattern": {
              "fillmode": "overlay",
              "size": 10,
              "solidity": 0.2
             }
            },
            "type": "histogram"
           }
          ],
          "histogram2d": [
           {
            "colorbar": {
             "outlinewidth": 0,
             "ticks": ""
            },
            "colorscale": [
             [
              0,
              "#0d0887"
             ],
             [
              0.1111111111111111,
              "#46039f"
             ],
             [
              0.2222222222222222,
              "#7201a8"
             ],
             [
              0.3333333333333333,
              "#9c179e"
             ],
             [
              0.4444444444444444,
              "#bd3786"
             ],
             [
              0.5555555555555556,
              "#d8576b"
             ],
             [
              0.6666666666666666,
              "#ed7953"
             ],
             [
              0.7777777777777778,
              "#fb9f3a"
             ],
             [
              0.8888888888888888,
              "#fdca26"
             ],
             [
              1,
              "#f0f921"
             ]
            ],
            "type": "histogram2d"
           }
          ],
          "histogram2dcontour": [
           {
            "colorbar": {
             "outlinewidth": 0,
             "ticks": ""
            },
            "colorscale": [
             [
              0,
              "#0d0887"
             ],
             [
              0.1111111111111111,
              "#46039f"
             ],
             [
              0.2222222222222222,
              "#7201a8"
             ],
             [
              0.3333333333333333,
              "#9c179e"
             ],
             [
              0.4444444444444444,
              "#bd3786"
             ],
             [
              0.5555555555555556,
              "#d8576b"
             ],
             [
              0.6666666666666666,
              "#ed7953"
             ],
             [
              0.7777777777777778,
              "#fb9f3a"
             ],
             [
              0.8888888888888888,
              "#fdca26"
             ],
             [
              1,
              "#f0f921"
             ]
            ],
            "type": "histogram2dcontour"
           }
          ],
          "mesh3d": [
           {
            "colorbar": {
             "outlinewidth": 0,
             "ticks": ""
            },
            "type": "mesh3d"
           }
          ],
          "parcoords": [
           {
            "line": {
             "colorbar": {
              "outlinewidth": 0,
              "ticks": ""
             }
            },
            "type": "parcoords"
           }
          ],
          "pie": [
           {
            "automargin": true,
            "type": "pie"
           }
          ],
          "scatter": [
           {
            "fillpattern": {
             "fillmode": "overlay",
             "size": 10,
             "solidity": 0.2
            },
            "type": "scatter"
           }
          ],
          "scatter3d": [
           {
            "line": {
             "colorbar": {
              "outlinewidth": 0,
              "ticks": ""
             }
            },
            "marker": {
             "colorbar": {
              "outlinewidth": 0,
              "ticks": ""
             }
            },
            "type": "scatter3d"
           }
          ],
          "scattercarpet": [
           {
            "marker": {
             "colorbar": {
              "outlinewidth": 0,
              "ticks": ""
             }
            },
            "type": "scattercarpet"
           }
          ],
          "scattergeo": [
           {
            "marker": {
             "colorbar": {
              "outlinewidth": 0,
              "ticks": ""
             }
            },
            "type": "scattergeo"
           }
          ],
          "scattergl": [
           {
            "marker": {
             "colorbar": {
              "outlinewidth": 0,
              "ticks": ""
             }
            },
            "type": "scattergl"
           }
          ],
          "scattermapbox": [
           {
            "marker": {
             "colorbar": {
              "outlinewidth": 0,
              "ticks": ""
             }
            },
            "type": "scattermapbox"
           }
          ],
          "scatterpolar": [
           {
            "marker": {
             "colorbar": {
              "outlinewidth": 0,
              "ticks": ""
             }
            },
            "type": "scatterpolar"
           }
          ],
          "scatterpolargl": [
           {
            "marker": {
             "colorbar": {
              "outlinewidth": 0,
              "ticks": ""
             }
            },
            "type": "scatterpolargl"
           }
          ],
          "scatterternary": [
           {
            "marker": {
             "colorbar": {
              "outlinewidth": 0,
              "ticks": ""
             }
            },
            "type": "scatterternary"
           }
          ],
          "surface": [
           {
            "colorbar": {
             "outlinewidth": 0,
             "ticks": ""
            },
            "colorscale": [
             [
              0,
              "#0d0887"
             ],
             [
              0.1111111111111111,
              "#46039f"
             ],
             [
              0.2222222222222222,
              "#7201a8"
             ],
             [
              0.3333333333333333,
              "#9c179e"
             ],
             [
              0.4444444444444444,
              "#bd3786"
             ],
             [
              0.5555555555555556,
              "#d8576b"
             ],
             [
              0.6666666666666666,
              "#ed7953"
             ],
             [
              0.7777777777777778,
              "#fb9f3a"
             ],
             [
              0.8888888888888888,
              "#fdca26"
             ],
             [
              1,
              "#f0f921"
             ]
            ],
            "type": "surface"
           }
          ],
          "table": [
           {
            "cells": {
             "fill": {
              "color": "#EBF0F8"
             },
             "line": {
              "color": "white"
             }
            },
            "header": {
             "fill": {
              "color": "#C8D4E3"
             },
             "line": {
              "color": "white"
             }
            },
            "type": "table"
           }
          ]
         },
         "layout": {
          "annotationdefaults": {
           "arrowcolor": "#2a3f5f",
           "arrowhead": 0,
           "arrowwidth": 1
          },
          "autotypenumbers": "strict",
          "coloraxis": {
           "colorbar": {
            "outlinewidth": 0,
            "ticks": ""
           }
          },
          "colorscale": {
           "diverging": [
            [
             0,
             "#8e0152"
            ],
            [
             0.1,
             "#c51b7d"
            ],
            [
             0.2,
             "#de77ae"
            ],
            [
             0.3,
             "#f1b6da"
            ],
            [
             0.4,
             "#fde0ef"
            ],
            [
             0.5,
             "#f7f7f7"
            ],
            [
             0.6,
             "#e6f5d0"
            ],
            [
             0.7,
             "#b8e186"
            ],
            [
             0.8,
             "#7fbc41"
            ],
            [
             0.9,
             "#4d9221"
            ],
            [
             1,
             "#276419"
            ]
           ],
           "sequential": [
            [
             0,
             "#0d0887"
            ],
            [
             0.1111111111111111,
             "#46039f"
            ],
            [
             0.2222222222222222,
             "#7201a8"
            ],
            [
             0.3333333333333333,
             "#9c179e"
            ],
            [
             0.4444444444444444,
             "#bd3786"
            ],
            [
             0.5555555555555556,
             "#d8576b"
            ],
            [
             0.6666666666666666,
             "#ed7953"
            ],
            [
             0.7777777777777778,
             "#fb9f3a"
            ],
            [
             0.8888888888888888,
             "#fdca26"
            ],
            [
             1,
             "#f0f921"
            ]
           ],
           "sequentialminus": [
            [
             0,
             "#0d0887"
            ],
            [
             0.1111111111111111,
             "#46039f"
            ],
            [
             0.2222222222222222,
             "#7201a8"
            ],
            [
             0.3333333333333333,
             "#9c179e"
            ],
            [
             0.4444444444444444,
             "#bd3786"
            ],
            [
             0.5555555555555556,
             "#d8576b"
            ],
            [
             0.6666666666666666,
             "#ed7953"
            ],
            [
             0.7777777777777778,
             "#fb9f3a"
            ],
            [
             0.8888888888888888,
             "#fdca26"
            ],
            [
             1,
             "#f0f921"
            ]
           ]
          },
          "colorway": [
           "#636efa",
           "#EF553B",
           "#00cc96",
           "#ab63fa",
           "#FFA15A",
           "#19d3f3",
           "#FF6692",
           "#B6E880",
           "#FF97FF",
           "#FECB52"
          ],
          "font": {
           "color": "#2a3f5f"
          },
          "geo": {
           "bgcolor": "white",
           "lakecolor": "white",
           "landcolor": "#E5ECF6",
           "showlakes": true,
           "showland": true,
           "subunitcolor": "white"
          },
          "hoverlabel": {
           "align": "left"
          },
          "hovermode": "closest",
          "mapbox": {
           "style": "light"
          },
          "paper_bgcolor": "white",
          "plot_bgcolor": "#E5ECF6",
          "polar": {
           "angularaxis": {
            "gridcolor": "white",
            "linecolor": "white",
            "ticks": ""
           },
           "bgcolor": "#E5ECF6",
           "radialaxis": {
            "gridcolor": "white",
            "linecolor": "white",
            "ticks": ""
           }
          },
          "scene": {
           "xaxis": {
            "backgroundcolor": "#E5ECF6",
            "gridcolor": "white",
            "gridwidth": 2,
            "linecolor": "white",
            "showbackground": true,
            "ticks": "",
            "zerolinecolor": "white"
           },
           "yaxis": {
            "backgroundcolor": "#E5ECF6",
            "gridcolor": "white",
            "gridwidth": 2,
            "linecolor": "white",
            "showbackground": true,
            "ticks": "",
            "zerolinecolor": "white"
           },
           "zaxis": {
            "backgroundcolor": "#E5ECF6",
            "gridcolor": "white",
            "gridwidth": 2,
            "linecolor": "white",
            "showbackground": true,
            "ticks": "",
            "zerolinecolor": "white"
           }
          },
          "shapedefaults": {
           "line": {
            "color": "#2a3f5f"
           }
          },
          "ternary": {
           "aaxis": {
            "gridcolor": "white",
            "linecolor": "white",
            "ticks": ""
           },
           "baxis": {
            "gridcolor": "white",
            "linecolor": "white",
            "ticks": ""
           },
           "bgcolor": "#E5ECF6",
           "caxis": {
            "gridcolor": "white",
            "linecolor": "white",
            "ticks": ""
           }
          },
          "title": {
           "x": 0.05
          },
          "xaxis": {
           "automargin": true,
           "gridcolor": "white",
           "linecolor": "white",
           "ticks": "",
           "title": {
            "standoff": 15
           },
           "zerolinecolor": "white",
           "zerolinewidth": 2
          },
          "yaxis": {
           "automargin": true,
           "gridcolor": "white",
           "linecolor": "white",
           "ticks": "",
           "title": {
            "standoff": 15
           },
           "zerolinecolor": "white",
           "zerolinewidth": 2
          }
         }
        },
        "title": {
         "text": "Home Insurance"
        },
        "xaxis": {
         "anchor": "y",
         "autorange": true,
         "domain": [
          0,
          1
         ],
         "matches": "x2",
         "range": [
          "2020-06-28 17:39:27.9934",
          "2025-01-10 06:20:32.0066"
         ],
         "showspikes": true,
         "showticklabels": false,
         "spikecolor": "grey",
         "spikemode": "across",
         "title": {
          "text": "Date"
         },
         "type": "date"
        },
        "xaxis2": {
         "anchor": "y2",
         "autorange": true,
         "domain": [
          0,
          1
         ],
         "range": [
          "2020-06-28 17:39:27.9934",
          "2025-01-10 06:20:32.0066"
         ],
         "showspikes": true,
         "spikecolor": "grey",
         "spikemode": "across",
         "type": "date"
        },
        "yaxis": {
         "anchor": "x",
         "autorange": true,
         "domain": [
          0.55,
          1
         ],
         "range": [
          916.1073595976529,
          2742.212640402347
         ],
         "showspikes": false,
         "title": {
          "text": "Amount"
         },
         "type": "linear"
        },
        "yaxis2": {
         "anchor": "x2",
         "autorange": true,
         "domain": [
          0,
          0.45
         ],
         "range": [
          -35257.38916256157,
          536257.3891625616
         ],
         "showspikes": false,
         "type": "linear"
        }
       }
      },
      "image/png": "[encoded data removed]",
      "text/html": [
       "<div>                            <div id=\"a16af287-3d5f-4cab-9f37-067cf84335b7\" class=\"plotly-graph-div\" style=\"height:800px; width:100%;\"></div>            <script type=\"text/javascript\">                require([\"plotly\"], function(Plotly) {                    window.PLOTLYENV=window.PLOTLYENV || {};                                    if (document.getElementById(\"a16af287-3d5f-4cab-9f37-067cf84335b7\")) {                    Plotly.newPlot(                        \"a16af287-3d5f-4cab-9f37-067cf84335b7\",                        [{\"marker\":{\"size\":10,\"symbol\":\"circle\"},\"mode\":\"lines+markers\",\"name\":\"Premium - ALLSTATE\",\"x\":[\"2020-09-29T00:00:00\",\"2021-09-21T00:00:00\",\"2022-09-20T00:00:00\",\"2023-09-20T00:00:00\",\"2024-09-19T00:00:00\"],\"y\":[1048.32,1334.49,1507.72,1850.19,2166.5],\"type\":\"scatter\",\"xaxis\":\"x\",\"yaxis\":\"y\"},{\"marker\":{\"size\":10,\"symbol\":\"circle\"},\"mode\":\"lines+markers\",\"name\":\"Premium - NATIONAL GENERAL\",\"x\":[\"2024-10-10T00:00:00\"],\"y\":[2610.0],\"type\":\"scatter\",\"xaxis\":\"x\",\"yaxis\":\"y\"},{\"mode\":\"lines+markers\",\"name\":\"DWELLING COVERAGE\",\"x\":[\"2020-09-29T00:00:00\",\"2021-09-21T00:00:00\",\"2022-09-20T00:00:00\",\"2023-09-20T00:00:00\",\"2024-09-19T00:00:00\",\"2024-10-10T00:00:00\"],\"y\":[337165,363770,410945,454323,479218,480000],\"type\":\"scatter\",\"xaxis\":\"x2\",\"yaxis\":\"y2\"},{\"mode\":\"lines+markers\",\"name\":\"OTHER STRUCTURES PROTECTION\",\"x\":[\"2020-09-29T00:00:00\",\"2021-09-21T00:00:00\",\"2022-09-20T00:00:00\",\"2023-09-20T00:00:00\",\"2024-09-19T00:00:00\",\"2024-10-10T00:00:00\"],\"y\":[50575,54566,61642,68149,71883,48000],\"type\":\"scatter\",\"xaxis\":\"x2\",\"yaxis\":\"y2\"},{\"mode\":\"lines+markers\",\"name\":\"PERSONAL PROPERTY PROTECTION\",\"x\":[\"2020-09-29T00:00:00\",\"2021-09-21T00:00:00\",\"2022-09-20T00:00:00\",\"2023-09-20T00:00:00\",\"2024-09-19T00:00:00\",\"2024-10-10T00:00:00\"],\"y\":[252874,272828,308209,340743,359414,240000],\"type\":\"scatter\",\"xaxis\":\"x2\",\"yaxis\":\"y2\"},{\"mode\":\"lines+markers\",\"name\":\"ADDITIONAL LIVING EXPENSE\",\"x\":[\"2020-09-29T00:00:00\",\"2021-09-21T00:00:00\",\"2022-09-20T00:00:00\",\"2023-09-20T00:00:00\",\"2024-09-19T00:00:00\",\"2024-10-10T00:00:00\"],\"y\":[84292,90943,102737,113581,119805,96000],\"type\":\"scatter\",\"xaxis\":\"x2\",\"yaxis\":\"y2\"},{\"mode\":\"lines+markers\",\"name\":\"FAMILY LIABILITY PROTECTION\",\"x\":[\"2020-09-29T00:00:00\",\"2021-09-21T00:00:00\",\"2022-09-20T00:00:00\",\"2023-09-20T00:00:00\",\"2024-09-19T00:00:00\",\"2024-10-10T00:00:00\"],\"y\":[300000,300000,300000,300000,300000,500000],\"type\":\"scatter\",\"xaxis\":\"x2\",\"yaxis\":\"y2\"},{\"mode\":\"lines+markers\",\"name\":\"GUEST MEDICAL PROTECTION\",\"x\":[\"2020-09-29T00:00:00\",\"2021-09-21T00:00:00\",\"2022-09-20T00:00:00\",\"2023-09-20T00:00:00\",\"2024-09-19T00:00:00\",\"2024-10-10T00:00:00\"],\"y\":[1000,1000,1000,1000,1000,5000],\"type\":\"scatter\",\"xaxis\":\"x2\",\"yaxis\":\"y2\"},{\"mode\":\"lines+markers\",\"name\":\"BUILDING CODES\",\"x\":[\"2020-09-29T00:00:00\",\"2021-09-21T00:00:00\",\"2022-09-20T00:00:00\",\"2023-09-20T00:00:00\",\"2024-09-19T00:00:00\",\"2024-10-10T00:00:00\"],\"y\":[33717,36377,41095,45433,47922,48000],\"type\":\"scatter\",\"xaxis\":\"x2\",\"yaxis\":\"y2\"},{\"mode\":\"lines+markers\",\"name\":\"WATER BACK-UP\",\"x\":[\"2020-09-29T00:00:00\",\"2021-09-21T00:00:00\",\"2022-09-20T00:00:00\",\"2023-09-20T00:00:00\",\"2024-09-19T00:00:00\",\"2024-10-10T00:00:00\"],\"y\":[10000,10000,10000,10000,10000,25000],\"type\":\"scatter\",\"xaxis\":\"x2\",\"yaxis\":\"y2\"}],                        {\"template\":{\"data\":{\"histogram2dcontour\":[{\"type\":\"histogram2dcontour\",\"colorbar\":{\"outlinewidth\":0,\"ticks\":\"\"},\"colorscale\":[[0.0,\"#0d0887\"],[0.1111111111111111,\"#46039f\"],[0.2222222222222222,\"#7201a8\"],[0.3333333333333333,\"#9c179e\"],[0.4444444444444444,\"#bd3786\"],[0.5555555555555556,\"#d8576b\"],[0.6666666666666666,\"#ed7953\"],[0.7777777777777778,\"#fb9f3a\"],[0.8888888888888888,\"#fdca26\"],[1.0,\"#f0f921\"]]}],\"choropleth\":[{\"type\":\"choropleth\",\"colorbar\":{\"outlinewidth\":0,\"ticks\":\"\"}}],\"histogram2d\":[{\"type\":\"histogram2d\",\"colorbar\":{\"outlinewidth\":0,\"ticks\":\"\"},\"colorscale\":[[0.0,\"#0d0887\"],[0.1111111111111111,\"#46039f\"],[0.2222222222222222,\"#7201a8\"],[0.3333333333333333,\"#9c179e\"],[0.4444444444444444,\"#bd3786\"],[0.5555555555555556,\"#d8576b\"],[0.6666666666666666,\"#ed7953\"],[0.7777777777777778,\"#fb9f3a\"],[0.8888888888888888,\"#fdca26\"],[1.0,\"#f0f921\"]]}],\"heatmap\":[{\"type\":\"heatmap\",\"colorbar\":{\"outlinewidth\":0,\"ticks\":\"\"},\"colorscale\":[[0.0,\"#0d0887\"],[0.1111111111111111,\"#46039f\"],[0.2222222222222222,\"#7201a8\"],[0.3333333333333333,\"#9c179e\"],[0.4444444444444444,\"#bd3786\"],[0.5555555555555556,\"#d8576b\"],[0.6666666666666666,\"#ed7953\"],[0.7777777777777778,\"#fb9f3a\"],[0.8888888888888888,\"#fdca26\"],[1.0,\"#f0f921\"]]}],\"heatmapgl\":[{\"type\":\"heatmapgl\",\"colorbar\":{\"outlinewidth\":0,\"ticks\":\"\"},\"colorscale\":[[0.0,\"#0d0887\"],[0.1111111111111111,\"#46039f\"],[0.2222222222222222,\"#7201a8\"],[0.3333333333333333,\"#9c179e\"],[0.4444444444444444,\"#bd3786\"],[0.5555555555555556,\"#d8576b\"],[0.6666666666666666,\"#ed7953\"],[0.7777777777777778,\"#fb9f3a\"],[0.8888888888888888,\"#fdca26\"],[1.0,\"#f0f921\"]]}],\"contourcarpet\":[{\"type\":\"contourcarpet\",\"colorbar\":{\"outlinewidth\":0,\"ticks\":\"\"}}],\"contour\":[{\"type\":\"contour\",\"colorbar\":{\"outlinewidth\":0,\"ticks\":\"\"},\"colorscale\":[[0.0,\"#0d0887\"],[0.1111111111111111,\"#46039f\"],[0.2222222222222222,\"#7201a8\"],[0.3333333333333333,\"#9c179e\"],[0.4444444444444444,\"#bd3786\"],[0.5555555555555556,\"#d8576b\"],[0.6666666666666666,\"#ed7953\"],[0.7777777777777778,\"#fb9f3a\"],[0.8888888888888888,\"#fdca26\"],[1.0,\"#f0f921\"]]}],\"surface\":[{\"type\":\"surface\",\"colorbar\":{\"outlinewidth\":0,\"ticks\":\"\"},\"colorscale\":[[0.0,\"#0d0887\"],[0.1111111111111111,\"#46039f\"],[0.2222222222222222,\"#7201a8\"],[0.3333333333333333,\"#9c179e\"],[0.4444444444444444,\"#bd3786\"],[0.5555555555555556,\"#d8576b\"],[0.6666666666666666,\"#ed7953\"],[0.7777777777777778,\"#fb9f3a\"],[0.8888888888888888,\"#fdca26\"],[1.0,\"#f0f921\"]]}],\"mesh3d\":[{\"type\":\"mesh3d\",\"colorbar\":{\"outlinewidth\":0,\"ticks\":\"\"}}],\"scatter\":[{\"fillpattern\":{\"fillmode\":\"overlay\",\"size\":10,\"solidity\":0.2},\"type\":\"scatter\"}],\"parcoords\":[{\"type\":\"parcoords\",\"line\":{\"colorbar\":{\"outlinewidth\":0,\"ticks\":\"\"}}}],\"scatterpolargl\":[{\"type\":\"scatterpolargl\",\"marker\":{\"colorbar\":{\"outlinewidth\":0,\"ticks\":\"\"}}}],\"bar\":[{\"error_x\":{\"color\":\"#2a3f5f\"},\"error_y\":{\"color\":\"#2a3f5f\"},\"marker\":{\"line\":{\"color\":\"#E5ECF6\",\"width\":0.5},\"pattern\":{\"fillmode\":\"overlay\",\"size\":10,\"solidity\":0.2}},\"type\":\"bar\"}],\"scattergeo\":[{\"type\":\"scattergeo\",\"marker\":{\"colorbar\":{\"outlinewidth\":0,\"ticks\":\"\"}}}],\"scatterpolar\":[{\"type\":\"scatterpolar\",\"marker\":{\"colorbar\":{\"outlinewidth\":0,\"ticks\":\"\"}}}],\"histogram\":[{\"marker\":{\"pattern\":{\"fillmode\":\"overlay\",\"size\":10,\"solidity\":0.2}},\"type\":\"histogram\"}],\"scattergl\":[{\"type\":\"scattergl\",\"marker\":{\"colorbar\":{\"outlinewidth\":0,\"ticks\":\"\"}}}],\"scatter3d\":[{\"type\":\"scatter3d\",\"line\":{\"colorbar\":{\"outlinewidth\":0,\"ticks\":\"\"}},\"marker\":{\"colorbar\":{\"outlinewidth\":0,\"ticks\":\"\"}}}],\"scattermapbox\":[{\"type\":\"scattermapbox\",\"marker\":{\"colorbar\":{\"outlinewidth\":0,\"ticks\":\"\"}}}],\"scatterternary\":[{\"type\":\"scatterternary\",\"marker\":{\"colorbar\":{\"outlinewidth\":0,\"ticks\":\"\"}}}],\"scattercarpet\":[{\"type\":\"scattercarpet\",\"marker\":{\"colorbar\":{\"outlinewidth\":0,\"ticks\":\"\"}}}],\"carpet\":[{\"aaxis\":{\"endlinecolor\":\"#2a3f5f\",\"gridcolor\":\"white\",\"linecolor\":\"white\",\"minorgridcolor\":\"white\",\"startlinecolor\":\"#2a3f5f\"},\"baxis\":{\"endlinecolor\":\"#2a3f5f\",\"gridcolor\":\"white\",\"linecolor\":\"white\",\"minorgridcolor\":\"white\",\"startlinecolor\":\"#2a3f5f\"},\"type\":\"carpet\"}],\"table\":[{\"cells\":{\"fill\":{\"color\":\"#EBF0F8\"},\"line\":{\"color\":\"white\"}},\"header\":{\"fill\":{\"color\":\"#C8D4E3\"},\"line\":{\"color\":\"white\"}},\"type\":\"table\"}],\"barpolar\":[{\"marker\":{\"line\":{\"color\":\"#E5ECF6\",\"width\":0.5},\"pattern\":{\"fillmode\":\"overlay\",\"size\":10,\"solidity\":0.2}},\"type\":\"barpolar\"}],\"pie\":[{\"automargin\":true,\"type\":\"pie\"}]},\"layout\":{\"autotypenumbers\":\"strict\",\"colorway\":[\"#636efa\",\"#EF553B\",\"#00cc96\",\"#ab63fa\",\"#FFA15A\",\"#19d3f3\",\"#FF6692\",\"#B6E880\",\"#FF97FF\",\"#FECB52\"],\"font\":{\"color\":\"#2a3f5f\"},\"hovermode\":\"closest\",\"hoverlabel\":{\"align\":\"left\"},\"paper_bgcolor\":\"white\",\"plot_bgcolor\":\"#E5ECF6\",\"polar\":{\"bgcolor\":\"#E5ECF6\",\"angularaxis\":{\"gridcolor\":\"white\",\"linecolor\":\"white\",\"ticks\":\"\"},\"radialaxis\":{\"gridcolor\":\"white\",\"linecolor\":\"white\",\"ticks\":\"\"}},\"ternary\":{\"bgcolor\":\"#E5ECF6\",\"aaxis\":{\"gridcolor\":\"white\",\"linecolor\":\"white\",\"ticks\":\"\"},\"baxis\":{\"gridcolor\":\"white\",\"linecolor\":\"white\",\"ticks\":\"\"},\"caxis\":{\"gridcolor\":\"white\",\"linecolor\":\"white\",\"ticks\":\"\"}},\"coloraxis\":{\"colorbar\":{\"outlinewidth\":0,\"ticks\":\"\"}},\"colorscale\":{\"sequential\":[[0.0,\"#0d0887\"],[0.1111111111111111,\"#46039f\"],[0.2222222222222222,\"#7201a8\"],[0.3333333333333333,\"#9c179e\"],[0.4444444444444444,\"#bd3786\"],[0.5555555555555556,\"#d8576b\"],[0.6666666666666666,\"#ed7953\"],[0.7777777777777778,\"#fb9f3a\"],[0.8888888888888888,\"#fdca26\"],[1.0,\"#f0f921\"]],\"sequentialminus\":[[0.0,\"#0d0887\"],[0.1111111111111111,\"#46039f\"],[0.2222222222222222,\"#7201a8\"],[0.3333333333333333,\"#9c179e\"],[0.4444444444444444,\"#bd3786\"],[0.5555555555555556,\"#d8576b\"],[0.6666666666666666,\"#ed7953\"],[0.7777777777777778,\"#fb9f3a\"],[0.8888888888888888,\"#fdca26\"],[1.0,\"#f0f921\"]],\"diverging\":[[0,\"#8e0152\"],[0.1,\"#c51b7d\"],[0.2,\"#de77ae\"],[0.3,\"#f1b6da\"],[0.4,\"#fde0ef\"],[0.5,\"#f7f7f7\"],[0.6,\"#e6f5d0\"],[0.7,\"#b8e186\"],[0.8,\"#7fbc41\"],[0.9,\"#4d9221\"],[1,\"#276419\"]]},\"xaxis\":{\"gridcolor\":\"white\",\"linecolor\":\"white\",\"ticks\":\"\",\"title\":{\"standoff\":15},\"zerolinecolor\":\"white\",\"automargin\":true,\"zerolinewidth\":2},\"yaxis\":{\"gridcolor\":\"white\",\"linecolor\":\"white\",\"ticks\":\"\",\"title\":{\"standoff\":15},\"zerolinecolor\":\"white\",\"automargin\":true,\"zerolinewidth\":2},\"scene\":{\"xaxis\":{\"backgroundcolor\":\"#E5ECF6\",\"gridcolor\":\"white\",\"linecolor\":\"white\",\"showbackground\":true,\"ticks\":\"\",\"zerolinecolor\":\"white\",\"gridwidth\":2},\"yaxis\":{\"backgroundcolor\":\"#E5ECF6\",\"gridcolor\":\"white\",\"linecolor\":\"white\",\"showbackground\":true,\"ticks\":\"\",\"zerolinecolor\":\"white\",\"gridwidth\":2},\"zaxis\":{\"backgroundcolor\":\"#E5ECF6\",\"gridcolor\":\"white\",\"linecolor\":\"white\",\"showbackground\":true,\"ticks\":\"\",\"zerolinecolor\":\"white\",\"gridwidth\":2}},\"shapedefaults\":{\"line\":{\"color\":\"#2a3f5f\"}},\"annotationdefaults\":{\"arrowcolor\":\"#2a3f5f\",\"arrowhead\":0,\"arrowwidth\":1},\"geo\":{\"bgcolor\":\"white\",\"landcolor\":\"#E5ECF6\",\"subunitcolor\":\"white\",\"showland\":true,\"showlakes\":true,\"lakecolor\":\"white\"},\"title\":{\"x\":0.05},\"mapbox\":{\"style\":\"light\"}}},\"xaxis\":{\"anchor\":\"y\",\"domain\":[0.0,1.0],\"matches\":\"x2\",\"showticklabels\":false,\"title\":{\"text\":\"Date\"},\"showspikes\":true,\"spikecolor\":\"grey\",\"spikemode\":\"across\"},\"yaxis\":{\"anchor\":\"x\",\"domain\":[0.55,1.0],\"title\":{\"text\":\"Amount\"}},\"xaxis2\":{\"anchor\":\"y2\",\"domain\":[0.0,1.0],\"showspikes\":true,\"spikecolor\":\"grey\",\"spikemode\":\"across\"},\"yaxis2\":{\"anchor\":\"x2\",\"domain\":[0.0,0.45]},\"title\":{\"text\":\"Home Insurance\"},\"hovermode\":\"x unified\",\"height\":800},                        {\"responsive\": true}                    ).then(function(){\n",
       "                            \n",
       "var gd = document.getElementById('a16af287-3d5f-4cab-9f37-067cf84335b7');\n",
       "var x = new MutationObserver(function (mutations, observer) {{\n",
       "        var display = window.getComputedStyle(gd).display;\n",
       "        if (!display || display === 'none') {{\n",
       "            console.log([gd, 'removed!']);\n",
       "            Plotly.purge(gd);\n",
       "            observer.disconnect();\n",
       "        }}\n",
       "}});\n",
       "\n",
       "// Listen for the removal of the full notebook cells\n",
       "var notebookContainer = gd.closest('#notebook-container');\n",
       "if (notebookContainer) {{\n",
       "    x.observe(notebookContainer, {childList: true});\n",
       "}}\n",
       "\n",
       "// Listen for the clearing of the current output cell\n",
       "var outputEl = gd.closest('.output');\n",
       "if (outputEl) {{\n",
       "    x.observe(outputEl, {childList: true});\n",
       "}}\n",
       "\n",
       "                        })                };                });            </script>        </div>"
      ]
     },
     "metadata": {},
     "output_type": "display_data"
    }
   ],
   "source": [
    "\n",
    "\n",
    "home = make_subplots(rows=2, cols=1, shared_xaxes=True, vertical_spacing=0.1)\n",
    "\n",
    "for insurer in home_df['INSURER'].unique():\n",
    "    insurer_df = home_df[home_df['INSURER'] == insurer]\n",
    "    home.add_trace(go.Scatter(\n",
    "        x=insurer_df['DATE'],\n",
    "        y=insurer_df['PREMIUM'],\n",
    "        mode='lines+markers',\n",
    "        name=f'Premium - {insurer}',\n",
    "        marker=dict(size=10, symbol='circle')\n",
    "    ), row=1, col=1)\n",
    "\n",
    "for col in home_df.columns[3:]:\n",
    "    home.add_trace(go.Scatter(\n",
    "        x=home_df['DATE'],\n",
    "        y=home_df[col],\n",
    "        mode='lines+markers',\n",
    "        name=col\n",
    "    ), row=2, col=1)\n",
    "\n",
    "home.update_layout(\n",
    "    title='Home Insurance',\n",
    "    xaxis_title='Date',\n",
    "    yaxis_title='Amount',\n",
    "    hovermode='x unified',\n",
    "    height=800\n",
    ")\n",
    "\n",
    "home.update_xaxes(showspikes=True, spikecolor='grey', spikemode='across')\n",
    "\n",
    "home.show()"
   ]
  },
  {
   "cell_type": "code",
   "execution_count": 195,
   "id": "5704add7-058a-4fa1-8fd1-766ffb53f45d",
   "metadata": {},
   "outputs": [
    {
     "data": {
      "text/html": [
       "<div>\n",
       "<style scoped>\n",
       "    .dataframe tbody tr th:only-of-type {\n",
       "        vertical-align: middle;\n",
       "    }\n",
       "\n",
       "    .dataframe tbody tr th {\n",
       "        vertical-align: top;\n",
       "    }\n",
       "\n",
       "    .dataframe thead th {\n",
       "        text-align: right;\n",
       "    }\n",
       "</style>\n",
       "<table border=\"1\" class=\"dataframe\">\n",
       "  <thead>\n",
       "    <tr style=\"text-align: right;\">\n",
       "      <th></th>\n",
       "      <th>DATE</th>\n",
       "      <th>2017 HYUNDAI SONATA</th>\n",
       "      <th>2020 TOYOTA TACOMA</th>\n",
       "      <th>2012 CHEVY CRUZE</th>\n",
       "      <th>2016 TOYOTA COROLLA</th>\n",
       "      <th>2003 HONDA ACCORD</th>\n",
       "      <th>TOTAL</th>\n",
       "    </tr>\n",
       "  </thead>\n",
       "  <tbody>\n",
       "    <tr>\n",
       "      <th>0</th>\n",
       "      <td>2020-09-30</td>\n",
       "      <td>427.44</td>\n",
       "      <td>507.37</td>\n",
       "      <td>NaN</td>\n",
       "      <td>NaN</td>\n",
       "      <td>NaN</td>\n",
       "      <td>934.81</td>\n",
       "    </tr>\n",
       "    <tr>\n",
       "      <th>1</th>\n",
       "      <td>2021-04-02</td>\n",
       "      <td>471.24</td>\n",
       "      <td>569.14</td>\n",
       "      <td>NaN</td>\n",
       "      <td>NaN</td>\n",
       "      <td>NaN</td>\n",
       "      <td>1040.38</td>\n",
       "    </tr>\n",
       "    <tr>\n",
       "      <th>2</th>\n",
       "      <td>2021-05-01</td>\n",
       "      <td>515.87</td>\n",
       "      <td>609.99</td>\n",
       "      <td>345.90</td>\n",
       "      <td>NaN</td>\n",
       "      <td>NaN</td>\n",
       "      <td>1471.76</td>\n",
       "    </tr>\n",
       "    <tr>\n",
       "      <th>3</th>\n",
       "      <td>2021-10-05</td>\n",
       "      <td>515.87</td>\n",
       "      <td>611.96</td>\n",
       "      <td>345.90</td>\n",
       "      <td>NaN</td>\n",
       "      <td>NaN</td>\n",
       "      <td>1473.73</td>\n",
       "    </tr>\n",
       "    <tr>\n",
       "      <th>4</th>\n",
       "      <td>2022-03-04</td>\n",
       "      <td>688.08</td>\n",
       "      <td>741.65</td>\n",
       "      <td>479.80</td>\n",
       "      <td>NaN</td>\n",
       "      <td>NaN</td>\n",
       "      <td>1909.53</td>\n",
       "    </tr>\n",
       "    <tr>\n",
       "      <th>5</th>\n",
       "      <td>2022-03-10</td>\n",
       "      <td>677.24</td>\n",
       "      <td>732.67</td>\n",
       "      <td>472.00</td>\n",
       "      <td>NaN</td>\n",
       "      <td>NaN</td>\n",
       "      <td>1881.91</td>\n",
       "    </tr>\n",
       "    <tr>\n",
       "      <th>6</th>\n",
       "      <td>2022-04-02</td>\n",
       "      <td>820.45</td>\n",
       "      <td>918.97</td>\n",
       "      <td>580.56</td>\n",
       "      <td>NaN</td>\n",
       "      <td>NaN</td>\n",
       "      <td>2319.98</td>\n",
       "    </tr>\n",
       "    <tr>\n",
       "      <th>7</th>\n",
       "      <td>2022-10-06</td>\n",
       "      <td>1020.97</td>\n",
       "      <td>1112.75</td>\n",
       "      <td>758.72</td>\n",
       "      <td>NaN</td>\n",
       "      <td>NaN</td>\n",
       "      <td>2892.44</td>\n",
       "    </tr>\n",
       "    <tr>\n",
       "      <th>8</th>\n",
       "      <td>2022-10-29</td>\n",
       "      <td>1105.87</td>\n",
       "      <td>1184.27</td>\n",
       "      <td>NaN</td>\n",
       "      <td>NaN</td>\n",
       "      <td>NaN</td>\n",
       "      <td>2290.14</td>\n",
       "    </tr>\n",
       "    <tr>\n",
       "      <th>9</th>\n",
       "      <td>2023-01-18</td>\n",
       "      <td>828.38</td>\n",
       "      <td>929.10</td>\n",
       "      <td>NaN</td>\n",
       "      <td>692.67</td>\n",
       "      <td>NaN</td>\n",
       "      <td>2450.15</td>\n",
       "    </tr>\n",
       "    <tr>\n",
       "      <th>10</th>\n",
       "      <td>2023-04-04</td>\n",
       "      <td>982.56</td>\n",
       "      <td>1127.59</td>\n",
       "      <td>NaN</td>\n",
       "      <td>821.15</td>\n",
       "      <td>NaN</td>\n",
       "      <td>2931.30</td>\n",
       "    </tr>\n",
       "    <tr>\n",
       "      <th>11</th>\n",
       "      <td>2023-08-25</td>\n",
       "      <td>845.89</td>\n",
       "      <td>989.83</td>\n",
       "      <td>NaN</td>\n",
       "      <td>NaN</td>\n",
       "      <td>728.36</td>\n",
       "      <td>2564.08</td>\n",
       "    </tr>\n",
       "    <tr>\n",
       "      <th>12</th>\n",
       "      <td>2023-09-07</td>\n",
       "      <td>801.27</td>\n",
       "      <td>940.32</td>\n",
       "      <td>NaN</td>\n",
       "      <td>NaN</td>\n",
       "      <td>690.92</td>\n",
       "      <td>2432.51</td>\n",
       "    </tr>\n",
       "    <tr>\n",
       "      <th>13</th>\n",
       "      <td>2023-10-04</td>\n",
       "      <td>1281.36</td>\n",
       "      <td>1416.30</td>\n",
       "      <td>NaN</td>\n",
       "      <td>NaN</td>\n",
       "      <td>1134.89</td>\n",
       "      <td>3832.55</td>\n",
       "    </tr>\n",
       "    <tr>\n",
       "      <th>14</th>\n",
       "      <td>2024-04-03</td>\n",
       "      <td>1375.65</td>\n",
       "      <td>1417.50</td>\n",
       "      <td>NaN</td>\n",
       "      <td>NaN</td>\n",
       "      <td>1132.26</td>\n",
       "      <td>3925.41</td>\n",
       "    </tr>\n",
       "    <tr>\n",
       "      <th>15</th>\n",
       "      <td>2024-10-03</td>\n",
       "      <td>1723.15</td>\n",
       "      <td>1459.58</td>\n",
       "      <td>NaN</td>\n",
       "      <td>NaN</td>\n",
       "      <td>1291.99</td>\n",
       "      <td>4474.72</td>\n",
       "    </tr>\n",
       "    <tr>\n",
       "      <th>16</th>\n",
       "      <td>2024-10-10</td>\n",
       "      <td>1006.30</td>\n",
       "      <td>1270.06</td>\n",
       "      <td>NaN</td>\n",
       "      <td>NaN</td>\n",
       "      <td>1711.00</td>\n",
       "      <td>3987.36</td>\n",
       "    </tr>\n",
       "  </tbody>\n",
       "</table>\n",
       "</div>"
      ],
      "text/plain": [
       "         DATE  2017 HYUNDAI SONATA  2020 TOYOTA TACOMA  2012 CHEVY CRUZE  \\\n",
       "0  2020-09-30               427.44              507.37               NaN   \n",
       "1  2021-04-02               471.24              569.14               NaN   \n",
       "2  2021-05-01               515.87              609.99            345.90   \n",
       "3  2021-10-05               515.87              611.96            345.90   \n",
       "4  2022-03-04               688.08              741.65            479.80   \n",
       "5  2022-03-10               677.24              732.67            472.00   \n",
       "6  2022-04-02               820.45              918.97            580.56   \n",
       "7  2022-10-06              1020.97             1112.75            758.72   \n",
       "8  2022-10-29              1105.87             1184.27               NaN   \n",
       "9  2023-01-18               828.38              929.10               NaN   \n",
       "10 2023-04-04               982.56             1127.59               NaN   \n",
       "11 2023-08-25               845.89              989.83               NaN   \n",
       "12 2023-09-07               801.27              940.32               NaN   \n",
       "13 2023-10-04              1281.36             1416.30               NaN   \n",
       "14 2024-04-03              1375.65             1417.50               NaN   \n",
       "15 2024-10-03              1723.15             1459.58               NaN   \n",
       "16 2024-10-10              1006.30             1270.06               NaN   \n",
       "\n",
       "    2016 TOYOTA COROLLA  2003 HONDA ACCORD    TOTAL  \n",
       "0                   NaN                NaN   934.81  \n",
       "1                   NaN                NaN  1040.38  \n",
       "2                   NaN                NaN  1471.76  \n",
       "3                   NaN                NaN  1473.73  \n",
       "4                   NaN                NaN  1909.53  \n",
       "5                   NaN                NaN  1881.91  \n",
       "6                   NaN                NaN  2319.98  \n",
       "7                   NaN                NaN  2892.44  \n",
       "8                   NaN                NaN  2290.14  \n",
       "9                692.67                NaN  2450.15  \n",
       "10               821.15                NaN  2931.30  \n",
       "11                  NaN             728.36  2564.08  \n",
       "12                  NaN             690.92  2432.51  \n",
       "13                  NaN            1134.89  3832.55  \n",
       "14                  NaN            1132.26  3925.41  \n",
       "15                  NaN            1291.99  4474.72  \n",
       "16                  NaN            1711.00  3987.36  "
      ]
     },
     "metadata": {},
     "output_type": "display_data"
    },
    {
     "data": {
      "text/html": [
       "<div>\n",
       "<style scoped>\n",
       "    .dataframe tbody tr th:only-of-type {\n",
       "        vertical-align: middle;\n",
       "    }\n",
       "\n",
       "    .dataframe tbody tr th {\n",
       "        vertical-align: top;\n",
       "    }\n",
       "\n",
       "    .dataframe thead th {\n",
       "        text-align: right;\n",
       "    }\n",
       "</style>\n",
       "<table border=\"1\" class=\"dataframe\">\n",
       "  <thead>\n",
       "    <tr style=\"text-align: right;\">\n",
       "      <th></th>\n",
       "      <th>DATE</th>\n",
       "      <th>CLAIM NUMBER</th>\n",
       "      <th>VEHICLE</th>\n",
       "      <th>TYPE</th>\n",
       "      <th>AMOUNT</th>\n",
       "    </tr>\n",
       "  </thead>\n",
       "  <tbody>\n",
       "    <tr>\n",
       "      <th>0</th>\n",
       "      <td>2022-01-31</td>\n",
       "      <td>657871935</td>\n",
       "      <td>2012 CHEVY CRUZE</td>\n",
       "      <td>TOW</td>\n",
       "      <td>51.35</td>\n",
       "    </tr>\n",
       "    <tr>\n",
       "      <th>1</th>\n",
       "      <td>2022-10-13</td>\n",
       "      <td>688598976</td>\n",
       "      <td>2012 CHEVY CRUZE</td>\n",
       "      <td>TOW</td>\n",
       "      <td>45.90</td>\n",
       "    </tr>\n",
       "    <tr>\n",
       "      <th>2</th>\n",
       "      <td>2022-10-13</td>\n",
       "      <td>688968882</td>\n",
       "      <td>2012 CHEVY CRUZE</td>\n",
       "      <td>CRASH/TOTALED</td>\n",
       "      <td>10010.40</td>\n",
       "    </tr>\n",
       "    <tr>\n",
       "      <th>3</th>\n",
       "      <td>2023-05-06</td>\n",
       "      <td>712923150</td>\n",
       "      <td>2016 TOYOTA COROLLA</td>\n",
       "      <td>CRASH/TOTALED</td>\n",
       "      <td>27043.08</td>\n",
       "    </tr>\n",
       "    <tr>\n",
       "      <th>4</th>\n",
       "      <td>2024-07-07</td>\n",
       "      <td>761147792</td>\n",
       "      <td>2017 HYUNDAI SONATA</td>\n",
       "      <td>CRASH/ANIMAL</td>\n",
       "      <td>NaN</td>\n",
       "    </tr>\n",
       "  </tbody>\n",
       "</table>\n",
       "</div>"
      ],
      "text/plain": [
       "        DATE  CLAIM NUMBER              VEHICLE           TYPE    AMOUNT\n",
       "0 2022-01-31     657871935     2012 CHEVY CRUZE            TOW     51.35\n",
       "1 2022-10-13     688598976     2012 CHEVY CRUZE            TOW     45.90\n",
       "2 2022-10-13     688968882     2012 CHEVY CRUZE  CRASH/TOTALED  10010.40\n",
       "3 2023-05-06     712923150  2016 TOYOTA COROLLA  CRASH/TOTALED  27043.08\n",
       "4 2024-07-07     761147792  2017 HYUNDAI SONATA   CRASH/ANIMAL       NaN"
      ]
     },
     "metadata": {},
     "output_type": "display_data"
    }
   ],
   "source": [
    "auto_premiums = 'data/auto.xlsx'\n",
    "claims = 'data/auto_claims.xlsx'\n",
    "auto_df = pd.read_excel(auto_premiums)\n",
    "claims_df = pd.read_excel(claims)\n",
    "display(auto_df)\n",
    "display(claims_df)"
   ]
  },
  {
   "cell_type": "code",
   "execution_count": 196,
   "id": "a613e57e-242d-4ce8-9aab-298af17168c1",
   "metadata": {},
   "outputs": [
    {
     "data": {
      "text/html": [
       "<div>\n",
       "<style scoped>\n",
       "    .dataframe tbody tr th:only-of-type {\n",
       "        vertical-align: middle;\n",
       "    }\n",
       "\n",
       "    .dataframe tbody tr th {\n",
       "        vertical-align: top;\n",
       "    }\n",
       "\n",
       "    .dataframe thead th {\n",
       "        text-align: right;\n",
       "    }\n",
       "</style>\n",
       "<table border=\"1\" class=\"dataframe\">\n",
       "  <thead>\n",
       "    <tr style=\"text-align: right;\">\n",
       "      <th></th>\n",
       "      <th>DATE</th>\n",
       "      <th>TOTAL</th>\n",
       "    </tr>\n",
       "  </thead>\n",
       "  <tbody>\n",
       "    <tr>\n",
       "      <th>0</th>\n",
       "      <td>2020-09-30</td>\n",
       "      <td>934.81</td>\n",
       "    </tr>\n",
       "    <tr>\n",
       "      <th>1</th>\n",
       "      <td>2021-04-02</td>\n",
       "      <td>1040.38</td>\n",
       "    </tr>\n",
       "    <tr>\n",
       "      <th>2</th>\n",
       "      <td>2021-05-01</td>\n",
       "      <td>1471.76</td>\n",
       "    </tr>\n",
       "    <tr>\n",
       "      <th>3</th>\n",
       "      <td>2021-10-05</td>\n",
       "      <td>1473.73</td>\n",
       "    </tr>\n",
       "    <tr>\n",
       "      <th>4</th>\n",
       "      <td>2022-03-04</td>\n",
       "      <td>1909.53</td>\n",
       "    </tr>\n",
       "    <tr>\n",
       "      <th>5</th>\n",
       "      <td>2022-03-10</td>\n",
       "      <td>1881.91</td>\n",
       "    </tr>\n",
       "    <tr>\n",
       "      <th>6</th>\n",
       "      <td>2022-04-02</td>\n",
       "      <td>2319.98</td>\n",
       "    </tr>\n",
       "    <tr>\n",
       "      <th>7</th>\n",
       "      <td>2022-10-06</td>\n",
       "      <td>2892.44</td>\n",
       "    </tr>\n",
       "    <tr>\n",
       "      <th>8</th>\n",
       "      <td>2022-10-29</td>\n",
       "      <td>2290.14</td>\n",
       "    </tr>\n",
       "    <tr>\n",
       "      <th>9</th>\n",
       "      <td>2023-01-18</td>\n",
       "      <td>2450.15</td>\n",
       "    </tr>\n",
       "    <tr>\n",
       "      <th>10</th>\n",
       "      <td>2023-04-04</td>\n",
       "      <td>2931.30</td>\n",
       "    </tr>\n",
       "    <tr>\n",
       "      <th>11</th>\n",
       "      <td>2023-08-25</td>\n",
       "      <td>2564.08</td>\n",
       "    </tr>\n",
       "    <tr>\n",
       "      <th>12</th>\n",
       "      <td>2023-09-07</td>\n",
       "      <td>2432.51</td>\n",
       "    </tr>\n",
       "    <tr>\n",
       "      <th>13</th>\n",
       "      <td>2023-10-04</td>\n",
       "      <td>3832.55</td>\n",
       "    </tr>\n",
       "    <tr>\n",
       "      <th>14</th>\n",
       "      <td>2024-04-03</td>\n",
       "      <td>3925.41</td>\n",
       "    </tr>\n",
       "    <tr>\n",
       "      <th>15</th>\n",
       "      <td>2024-10-03</td>\n",
       "      <td>4474.72</td>\n",
       "    </tr>\n",
       "    <tr>\n",
       "      <th>16</th>\n",
       "      <td>2024-10-10</td>\n",
       "      <td>3987.36</td>\n",
       "    </tr>\n",
       "  </tbody>\n",
       "</table>\n",
       "</div>"
      ],
      "text/plain": [
       "         DATE    TOTAL\n",
       "0  2020-09-30   934.81\n",
       "1  2021-04-02  1040.38\n",
       "2  2021-05-01  1471.76\n",
       "3  2021-10-05  1473.73\n",
       "4  2022-03-04  1909.53\n",
       "5  2022-03-10  1881.91\n",
       "6  2022-04-02  2319.98\n",
       "7  2022-10-06  2892.44\n",
       "8  2022-10-29  2290.14\n",
       "9  2023-01-18  2450.15\n",
       "10 2023-04-04  2931.30\n",
       "11 2023-08-25  2564.08\n",
       "12 2023-09-07  2432.51\n",
       "13 2023-10-04  3832.55\n",
       "14 2024-04-03  3925.41\n",
       "15 2024-10-03  4474.72\n",
       "16 2024-10-10  3987.36"
      ]
     },
     "metadata": {},
     "output_type": "display_data"
    }
   ],
   "source": [
    "total_df = auto_df[['DATE', 'TOTAL']]\n",
    "display(total_df)"
   ]
  },
  {
   "cell_type": "code",
   "execution_count": 197,
   "id": "8e5e7a8d-96a8-4950-998a-55d93e38bbbc",
   "metadata": {},
   "outputs": [
    {
     "data": {
      "text/html": [
       "<div>\n",
       "<style scoped>\n",
       "    .dataframe tbody tr th:only-of-type {\n",
       "        vertical-align: middle;\n",
       "    }\n",
       "\n",
       "    .dataframe tbody tr th {\n",
       "        vertical-align: top;\n",
       "    }\n",
       "\n",
       "    .dataframe thead th {\n",
       "        text-align: right;\n",
       "    }\n",
       "</style>\n",
       "<table border=\"1\" class=\"dataframe\">\n",
       "  <thead>\n",
       "    <tr style=\"text-align: right;\">\n",
       "      <th></th>\n",
       "      <th>DATE</th>\n",
       "      <th>2017 HYUNDAI SONATA</th>\n",
       "      <th>2020 TOYOTA TACOMA</th>\n",
       "      <th>2012 CHEVY CRUZE</th>\n",
       "      <th>2016 TOYOTA COROLLA</th>\n",
       "      <th>2003 HONDA ACCORD</th>\n",
       "    </tr>\n",
       "  </thead>\n",
       "  <tbody>\n",
       "    <tr>\n",
       "      <th>0</th>\n",
       "      <td>2020-09-30</td>\n",
       "      <td>427.44</td>\n",
       "      <td>507.37</td>\n",
       "      <td>NaN</td>\n",
       "      <td>NaN</td>\n",
       "      <td>NaN</td>\n",
       "    </tr>\n",
       "    <tr>\n",
       "      <th>1</th>\n",
       "      <td>2021-04-02</td>\n",
       "      <td>471.24</td>\n",
       "      <td>569.14</td>\n",
       "      <td>NaN</td>\n",
       "      <td>NaN</td>\n",
       "      <td>NaN</td>\n",
       "    </tr>\n",
       "    <tr>\n",
       "      <th>2</th>\n",
       "      <td>2021-05-01</td>\n",
       "      <td>515.87</td>\n",
       "      <td>609.99</td>\n",
       "      <td>345.90</td>\n",
       "      <td>NaN</td>\n",
       "      <td>NaN</td>\n",
       "    </tr>\n",
       "    <tr>\n",
       "      <th>3</th>\n",
       "      <td>2021-10-05</td>\n",
       "      <td>515.87</td>\n",
       "      <td>611.96</td>\n",
       "      <td>345.90</td>\n",
       "      <td>NaN</td>\n",
       "      <td>NaN</td>\n",
       "    </tr>\n",
       "    <tr>\n",
       "      <th>4</th>\n",
       "      <td>2022-03-04</td>\n",
       "      <td>688.08</td>\n",
       "      <td>741.65</td>\n",
       "      <td>479.80</td>\n",
       "      <td>NaN</td>\n",
       "      <td>NaN</td>\n",
       "    </tr>\n",
       "    <tr>\n",
       "      <th>5</th>\n",
       "      <td>2022-03-10</td>\n",
       "      <td>677.24</td>\n",
       "      <td>732.67</td>\n",
       "      <td>472.00</td>\n",
       "      <td>NaN</td>\n",
       "      <td>NaN</td>\n",
       "    </tr>\n",
       "    <tr>\n",
       "      <th>6</th>\n",
       "      <td>2022-04-02</td>\n",
       "      <td>820.45</td>\n",
       "      <td>918.97</td>\n",
       "      <td>580.56</td>\n",
       "      <td>NaN</td>\n",
       "      <td>NaN</td>\n",
       "    </tr>\n",
       "    <tr>\n",
       "      <th>7</th>\n",
       "      <td>2022-10-06</td>\n",
       "      <td>1020.97</td>\n",
       "      <td>1112.75</td>\n",
       "      <td>758.72</td>\n",
       "      <td>NaN</td>\n",
       "      <td>NaN</td>\n",
       "    </tr>\n",
       "    <tr>\n",
       "      <th>8</th>\n",
       "      <td>2022-10-29</td>\n",
       "      <td>1105.87</td>\n",
       "      <td>1184.27</td>\n",
       "      <td>NaN</td>\n",
       "      <td>NaN</td>\n",
       "      <td>NaN</td>\n",
       "    </tr>\n",
       "    <tr>\n",
       "      <th>9</th>\n",
       "      <td>2023-01-18</td>\n",
       "      <td>828.38</td>\n",
       "      <td>929.10</td>\n",
       "      <td>NaN</td>\n",
       "      <td>692.67</td>\n",
       "      <td>NaN</td>\n",
       "    </tr>\n",
       "    <tr>\n",
       "      <th>10</th>\n",
       "      <td>2023-04-04</td>\n",
       "      <td>982.56</td>\n",
       "      <td>1127.59</td>\n",
       "      <td>NaN</td>\n",
       "      <td>821.15</td>\n",
       "      <td>NaN</td>\n",
       "    </tr>\n",
       "    <tr>\n",
       "      <th>11</th>\n",
       "      <td>2023-08-25</td>\n",
       "      <td>845.89</td>\n",
       "      <td>989.83</td>\n",
       "      <td>NaN</td>\n",
       "      <td>NaN</td>\n",
       "      <td>728.36</td>\n",
       "    </tr>\n",
       "    <tr>\n",
       "      <th>12</th>\n",
       "      <td>2023-09-07</td>\n",
       "      <td>801.27</td>\n",
       "      <td>940.32</td>\n",
       "      <td>NaN</td>\n",
       "      <td>NaN</td>\n",
       "      <td>690.92</td>\n",
       "    </tr>\n",
       "    <tr>\n",
       "      <th>13</th>\n",
       "      <td>2023-10-04</td>\n",
       "      <td>1281.36</td>\n",
       "      <td>1416.30</td>\n",
       "      <td>NaN</td>\n",
       "      <td>NaN</td>\n",
       "      <td>1134.89</td>\n",
       "    </tr>\n",
       "    <tr>\n",
       "      <th>14</th>\n",
       "      <td>2024-04-03</td>\n",
       "      <td>1375.65</td>\n",
       "      <td>1417.50</td>\n",
       "      <td>NaN</td>\n",
       "      <td>NaN</td>\n",
       "      <td>1132.26</td>\n",
       "    </tr>\n",
       "    <tr>\n",
       "      <th>15</th>\n",
       "      <td>2024-10-03</td>\n",
       "      <td>1723.15</td>\n",
       "      <td>1459.58</td>\n",
       "      <td>NaN</td>\n",
       "      <td>NaN</td>\n",
       "      <td>1291.99</td>\n",
       "    </tr>\n",
       "    <tr>\n",
       "      <th>16</th>\n",
       "      <td>2024-10-10</td>\n",
       "      <td>1006.30</td>\n",
       "      <td>1270.06</td>\n",
       "      <td>NaN</td>\n",
       "      <td>NaN</td>\n",
       "      <td>1711.00</td>\n",
       "    </tr>\n",
       "  </tbody>\n",
       "</table>\n",
       "</div>"
      ],
      "text/plain": [
       "         DATE  2017 HYUNDAI SONATA  2020 TOYOTA TACOMA  2012 CHEVY CRUZE  \\\n",
       "0  2020-09-30               427.44              507.37               NaN   \n",
       "1  2021-04-02               471.24              569.14               NaN   \n",
       "2  2021-05-01               515.87              609.99            345.90   \n",
       "3  2021-10-05               515.87              611.96            345.90   \n",
       "4  2022-03-04               688.08              741.65            479.80   \n",
       "5  2022-03-10               677.24              732.67            472.00   \n",
       "6  2022-04-02               820.45              918.97            580.56   \n",
       "7  2022-10-06              1020.97             1112.75            758.72   \n",
       "8  2022-10-29              1105.87             1184.27               NaN   \n",
       "9  2023-01-18               828.38              929.10               NaN   \n",
       "10 2023-04-04               982.56             1127.59               NaN   \n",
       "11 2023-08-25               845.89              989.83               NaN   \n",
       "12 2023-09-07               801.27              940.32               NaN   \n",
       "13 2023-10-04              1281.36             1416.30               NaN   \n",
       "14 2024-04-03              1375.65             1417.50               NaN   \n",
       "15 2024-10-03              1723.15             1459.58               NaN   \n",
       "16 2024-10-10              1006.30             1270.06               NaN   \n",
       "\n",
       "    2016 TOYOTA COROLLA  2003 HONDA ACCORD  \n",
       "0                   NaN                NaN  \n",
       "1                   NaN                NaN  \n",
       "2                   NaN                NaN  \n",
       "3                   NaN                NaN  \n",
       "4                   NaN                NaN  \n",
       "5                   NaN                NaN  \n",
       "6                   NaN                NaN  \n",
       "7                   NaN                NaN  \n",
       "8                   NaN                NaN  \n",
       "9                692.67                NaN  \n",
       "10               821.15                NaN  \n",
       "11                  NaN             728.36  \n",
       "12                  NaN             690.92  \n",
       "13                  NaN            1134.89  \n",
       "14                  NaN            1132.26  \n",
       "15                  NaN            1291.99  \n",
       "16                  NaN            1711.00  "
      ]
     },
     "metadata": {},
     "output_type": "display_data"
    },
    {
     "data": {
      "text/html": [
       "<div>\n",
       "<style scoped>\n",
       "    .dataframe tbody tr th:only-of-type {\n",
       "        vertical-align: middle;\n",
       "    }\n",
       "\n",
       "    .dataframe tbody tr th {\n",
       "        vertical-align: top;\n",
       "    }\n",
       "\n",
       "    .dataframe thead th {\n",
       "        text-align: right;\n",
       "    }\n",
       "</style>\n",
       "<table border=\"1\" class=\"dataframe\">\n",
       "  <thead>\n",
       "    <tr style=\"text-align: right;\">\n",
       "      <th></th>\n",
       "      <th>DATE</th>\n",
       "      <th>VEHICLE</th>\n",
       "      <th>PREMIUM</th>\n",
       "    </tr>\n",
       "  </thead>\n",
       "  <tbody>\n",
       "    <tr>\n",
       "      <th>0</th>\n",
       "      <td>2020-09-30</td>\n",
       "      <td>2017 HYUNDAI SONATA</td>\n",
       "      <td>427.44</td>\n",
       "    </tr>\n",
       "    <tr>\n",
       "      <th>1</th>\n",
       "      <td>2021-04-02</td>\n",
       "      <td>2017 HYUNDAI SONATA</td>\n",
       "      <td>471.24</td>\n",
       "    </tr>\n",
       "    <tr>\n",
       "      <th>2</th>\n",
       "      <td>2021-05-01</td>\n",
       "      <td>2017 HYUNDAI SONATA</td>\n",
       "      <td>515.87</td>\n",
       "    </tr>\n",
       "    <tr>\n",
       "      <th>3</th>\n",
       "      <td>2021-10-05</td>\n",
       "      <td>2017 HYUNDAI SONATA</td>\n",
       "      <td>515.87</td>\n",
       "    </tr>\n",
       "    <tr>\n",
       "      <th>4</th>\n",
       "      <td>2022-03-04</td>\n",
       "      <td>2017 HYUNDAI SONATA</td>\n",
       "      <td>688.08</td>\n",
       "    </tr>\n",
       "    <tr>\n",
       "      <th>5</th>\n",
       "      <td>2022-03-10</td>\n",
       "      <td>2017 HYUNDAI SONATA</td>\n",
       "      <td>677.24</td>\n",
       "    </tr>\n",
       "    <tr>\n",
       "      <th>6</th>\n",
       "      <td>2022-04-02</td>\n",
       "      <td>2017 HYUNDAI SONATA</td>\n",
       "      <td>820.45</td>\n",
       "    </tr>\n",
       "    <tr>\n",
       "      <th>7</th>\n",
       "      <td>2022-10-06</td>\n",
       "      <td>2017 HYUNDAI SONATA</td>\n",
       "      <td>1020.97</td>\n",
       "    </tr>\n",
       "    <tr>\n",
       "      <th>8</th>\n",
       "      <td>2022-10-29</td>\n",
       "      <td>2017 HYUNDAI SONATA</td>\n",
       "      <td>1105.87</td>\n",
       "    </tr>\n",
       "    <tr>\n",
       "      <th>9</th>\n",
       "      <td>2023-01-18</td>\n",
       "      <td>2017 HYUNDAI SONATA</td>\n",
       "      <td>828.38</td>\n",
       "    </tr>\n",
       "    <tr>\n",
       "      <th>10</th>\n",
       "      <td>2023-04-04</td>\n",
       "      <td>2017 HYUNDAI SONATA</td>\n",
       "      <td>982.56</td>\n",
       "    </tr>\n",
       "    <tr>\n",
       "      <th>11</th>\n",
       "      <td>2023-08-25</td>\n",
       "      <td>2017 HYUNDAI SONATA</td>\n",
       "      <td>845.89</td>\n",
       "    </tr>\n",
       "    <tr>\n",
       "      <th>12</th>\n",
       "      <td>2023-09-07</td>\n",
       "      <td>2017 HYUNDAI SONATA</td>\n",
       "      <td>801.27</td>\n",
       "    </tr>\n",
       "    <tr>\n",
       "      <th>13</th>\n",
       "      <td>2023-10-04</td>\n",
       "      <td>2017 HYUNDAI SONATA</td>\n",
       "      <td>1281.36</td>\n",
       "    </tr>\n",
       "    <tr>\n",
       "      <th>14</th>\n",
       "      <td>2024-04-03</td>\n",
       "      <td>2017 HYUNDAI SONATA</td>\n",
       "      <td>1375.65</td>\n",
       "    </tr>\n",
       "    <tr>\n",
       "      <th>15</th>\n",
       "      <td>2024-10-03</td>\n",
       "      <td>2017 HYUNDAI SONATA</td>\n",
       "      <td>1723.15</td>\n",
       "    </tr>\n",
       "    <tr>\n",
       "      <th>16</th>\n",
       "      <td>2024-10-10</td>\n",
       "      <td>2017 HYUNDAI SONATA</td>\n",
       "      <td>1006.30</td>\n",
       "    </tr>\n",
       "    <tr>\n",
       "      <th>17</th>\n",
       "      <td>2020-09-30</td>\n",
       "      <td>2020 TOYOTA TACOMA</td>\n",
       "      <td>507.37</td>\n",
       "    </tr>\n",
       "    <tr>\n",
       "      <th>18</th>\n",
       "      <td>2021-04-02</td>\n",
       "      <td>2020 TOYOTA TACOMA</td>\n",
       "      <td>569.14</td>\n",
       "    </tr>\n",
       "    <tr>\n",
       "      <th>19</th>\n",
       "      <td>2021-05-01</td>\n",
       "      <td>2020 TOYOTA TACOMA</td>\n",
       "      <td>609.99</td>\n",
       "    </tr>\n",
       "    <tr>\n",
       "      <th>20</th>\n",
       "      <td>2021-10-05</td>\n",
       "      <td>2020 TOYOTA TACOMA</td>\n",
       "      <td>611.96</td>\n",
       "    </tr>\n",
       "    <tr>\n",
       "      <th>21</th>\n",
       "      <td>2022-03-04</td>\n",
       "      <td>2020 TOYOTA TACOMA</td>\n",
       "      <td>741.65</td>\n",
       "    </tr>\n",
       "    <tr>\n",
       "      <th>22</th>\n",
       "      <td>2022-03-10</td>\n",
       "      <td>2020 TOYOTA TACOMA</td>\n",
       "      <td>732.67</td>\n",
       "    </tr>\n",
       "    <tr>\n",
       "      <th>23</th>\n",
       "      <td>2022-04-02</td>\n",
       "      <td>2020 TOYOTA TACOMA</td>\n",
       "      <td>918.97</td>\n",
       "    </tr>\n",
       "    <tr>\n",
       "      <th>24</th>\n",
       "      <td>2022-10-06</td>\n",
       "      <td>2020 TOYOTA TACOMA</td>\n",
       "      <td>1112.75</td>\n",
       "    </tr>\n",
       "    <tr>\n",
       "      <th>25</th>\n",
       "      <td>2022-10-29</td>\n",
       "      <td>2020 TOYOTA TACOMA</td>\n",
       "      <td>1184.27</td>\n",
       "    </tr>\n",
       "    <tr>\n",
       "      <th>26</th>\n",
       "      <td>2023-01-18</td>\n",
       "      <td>2020 TOYOTA TACOMA</td>\n",
       "      <td>929.10</td>\n",
       "    </tr>\n",
       "    <tr>\n",
       "      <th>27</th>\n",
       "      <td>2023-04-04</td>\n",
       "      <td>2020 TOYOTA TACOMA</td>\n",
       "      <td>1127.59</td>\n",
       "    </tr>\n",
       "    <tr>\n",
       "      <th>28</th>\n",
       "      <td>2023-08-25</td>\n",
       "      <td>2020 TOYOTA TACOMA</td>\n",
       "      <td>989.83</td>\n",
       "    </tr>\n",
       "    <tr>\n",
       "      <th>29</th>\n",
       "      <td>2023-09-07</td>\n",
       "      <td>2020 TOYOTA TACOMA</td>\n",
       "      <td>940.32</td>\n",
       "    </tr>\n",
       "    <tr>\n",
       "      <th>30</th>\n",
       "      <td>2023-10-04</td>\n",
       "      <td>2020 TOYOTA TACOMA</td>\n",
       "      <td>1416.30</td>\n",
       "    </tr>\n",
       "    <tr>\n",
       "      <th>31</th>\n",
       "      <td>2024-04-03</td>\n",
       "      <td>2020 TOYOTA TACOMA</td>\n",
       "      <td>1417.50</td>\n",
       "    </tr>\n",
       "    <tr>\n",
       "      <th>32</th>\n",
       "      <td>2024-10-03</td>\n",
       "      <td>2020 TOYOTA TACOMA</td>\n",
       "      <td>1459.58</td>\n",
       "    </tr>\n",
       "    <tr>\n",
       "      <th>33</th>\n",
       "      <td>2024-10-10</td>\n",
       "      <td>2020 TOYOTA TACOMA</td>\n",
       "      <td>1270.06</td>\n",
       "    </tr>\n",
       "    <tr>\n",
       "      <th>36</th>\n",
       "      <td>2021-05-01</td>\n",
       "      <td>2012 CHEVY CRUZE</td>\n",
       "      <td>345.90</td>\n",
       "    </tr>\n",
       "    <tr>\n",
       "      <th>37</th>\n",
       "      <td>2021-10-05</td>\n",
       "      <td>2012 CHEVY CRUZE</td>\n",
       "      <td>345.90</td>\n",
       "    </tr>\n",
       "    <tr>\n",
       "      <th>38</th>\n",
       "      <td>2022-03-04</td>\n",
       "      <td>2012 CHEVY CRUZE</td>\n",
       "      <td>479.80</td>\n",
       "    </tr>\n",
       "    <tr>\n",
       "      <th>39</th>\n",
       "      <td>2022-03-10</td>\n",
       "      <td>2012 CHEVY CRUZE</td>\n",
       "      <td>472.00</td>\n",
       "    </tr>\n",
       "    <tr>\n",
       "      <th>40</th>\n",
       "      <td>2022-04-02</td>\n",
       "      <td>2012 CHEVY CRUZE</td>\n",
       "      <td>580.56</td>\n",
       "    </tr>\n",
       "    <tr>\n",
       "      <th>41</th>\n",
       "      <td>2022-10-06</td>\n",
       "      <td>2012 CHEVY CRUZE</td>\n",
       "      <td>758.72</td>\n",
       "    </tr>\n",
       "    <tr>\n",
       "      <th>60</th>\n",
       "      <td>2023-01-18</td>\n",
       "      <td>2016 TOYOTA COROLLA</td>\n",
       "      <td>692.67</td>\n",
       "    </tr>\n",
       "    <tr>\n",
       "      <th>61</th>\n",
       "      <td>2023-04-04</td>\n",
       "      <td>2016 TOYOTA COROLLA</td>\n",
       "      <td>821.15</td>\n",
       "    </tr>\n",
       "    <tr>\n",
       "      <th>79</th>\n",
       "      <td>2023-08-25</td>\n",
       "      <td>2003 HONDA ACCORD</td>\n",
       "      <td>728.36</td>\n",
       "    </tr>\n",
       "    <tr>\n",
       "      <th>80</th>\n",
       "      <td>2023-09-07</td>\n",
       "      <td>2003 HONDA ACCORD</td>\n",
       "      <td>690.92</td>\n",
       "    </tr>\n",
       "    <tr>\n",
       "      <th>81</th>\n",
       "      <td>2023-10-04</td>\n",
       "      <td>2003 HONDA ACCORD</td>\n",
       "      <td>1134.89</td>\n",
       "    </tr>\n",
       "    <tr>\n",
       "      <th>82</th>\n",
       "      <td>2024-04-03</td>\n",
       "      <td>2003 HONDA ACCORD</td>\n",
       "      <td>1132.26</td>\n",
       "    </tr>\n",
       "    <tr>\n",
       "      <th>83</th>\n",
       "      <td>2024-10-03</td>\n",
       "      <td>2003 HONDA ACCORD</td>\n",
       "      <td>1291.99</td>\n",
       "    </tr>\n",
       "    <tr>\n",
       "      <th>84</th>\n",
       "      <td>2024-10-10</td>\n",
       "      <td>2003 HONDA ACCORD</td>\n",
       "      <td>1711.00</td>\n",
       "    </tr>\n",
       "  </tbody>\n",
       "</table>\n",
       "</div>"
      ],
      "text/plain": [
       "         DATE              VEHICLE  PREMIUM\n",
       "0  2020-09-30  2017 HYUNDAI SONATA   427.44\n",
       "1  2021-04-02  2017 HYUNDAI SONATA   471.24\n",
       "2  2021-05-01  2017 HYUNDAI SONATA   515.87\n",
       "3  2021-10-05  2017 HYUNDAI SONATA   515.87\n",
       "4  2022-03-04  2017 HYUNDAI SONATA   688.08\n",
       "5  2022-03-10  2017 HYUNDAI SONATA   677.24\n",
       "6  2022-04-02  2017 HYUNDAI SONATA   820.45\n",
       "7  2022-10-06  2017 HYUNDAI SONATA  1020.97\n",
       "8  2022-10-29  2017 HYUNDAI SONATA  1105.87\n",
       "9  2023-01-18  2017 HYUNDAI SONATA   828.38\n",
       "10 2023-04-04  2017 HYUNDAI SONATA   982.56\n",
       "11 2023-08-25  2017 HYUNDAI SONATA   845.89\n",
       "12 2023-09-07  2017 HYUNDAI SONATA   801.27\n",
       "13 2023-10-04  2017 HYUNDAI SONATA  1281.36\n",
       "14 2024-04-03  2017 HYUNDAI SONATA  1375.65\n",
       "15 2024-10-03  2017 HYUNDAI SONATA  1723.15\n",
       "16 2024-10-10  2017 HYUNDAI SONATA  1006.30\n",
       "17 2020-09-30   2020 TOYOTA TACOMA   507.37\n",
       "18 2021-04-02   2020 TOYOTA TACOMA   569.14\n",
       "19 2021-05-01   2020 TOYOTA TACOMA   609.99\n",
       "20 2021-10-05   2020 TOYOTA TACOMA   611.96\n",
       "21 2022-03-04   2020 TOYOTA TACOMA   741.65\n",
       "22 2022-03-10   2020 TOYOTA TACOMA   732.67\n",
       "23 2022-04-02   2020 TOYOTA TACOMA   918.97\n",
       "24 2022-10-06   2020 TOYOTA TACOMA  1112.75\n",
       "25 2022-10-29   2020 TOYOTA TACOMA  1184.27\n",
       "26 2023-01-18   2020 TOYOTA TACOMA   929.10\n",
       "27 2023-04-04   2020 TOYOTA TACOMA  1127.59\n",
       "28 2023-08-25   2020 TOYOTA TACOMA   989.83\n",
       "29 2023-09-07   2020 TOYOTA TACOMA   940.32\n",
       "30 2023-10-04   2020 TOYOTA TACOMA  1416.30\n",
       "31 2024-04-03   2020 TOYOTA TACOMA  1417.50\n",
       "32 2024-10-03   2020 TOYOTA TACOMA  1459.58\n",
       "33 2024-10-10   2020 TOYOTA TACOMA  1270.06\n",
       "36 2021-05-01     2012 CHEVY CRUZE   345.90\n",
       "37 2021-10-05     2012 CHEVY CRUZE   345.90\n",
       "38 2022-03-04     2012 CHEVY CRUZE   479.80\n",
       "39 2022-03-10     2012 CHEVY CRUZE   472.00\n",
       "40 2022-04-02     2012 CHEVY CRUZE   580.56\n",
       "41 2022-10-06     2012 CHEVY CRUZE   758.72\n",
       "60 2023-01-18  2016 TOYOTA COROLLA   692.67\n",
       "61 2023-04-04  2016 TOYOTA COROLLA   821.15\n",
       "79 2023-08-25    2003 HONDA ACCORD   728.36\n",
       "80 2023-09-07    2003 HONDA ACCORD   690.92\n",
       "81 2023-10-04    2003 HONDA ACCORD  1134.89\n",
       "82 2024-04-03    2003 HONDA ACCORD  1132.26\n",
       "83 2024-10-03    2003 HONDA ACCORD  1291.99\n",
       "84 2024-10-10    2003 HONDA ACCORD  1711.00"
      ]
     },
     "metadata": {},
     "output_type": "display_data"
    }
   ],
   "source": [
    "filtered_auto_df = auto_df.drop(columns=['TOTAL'])\n",
    "display(filtered_auto_df)\n",
    "\n",
    "melted_auto_df = filtered_auto_df.melt(id_vars=['DATE'], var_name='VEHICLE', value_name='PREMIUM')\n",
    "melted_auto_df = melted_auto_df.dropna(subset=['PREMIUM'])\n",
    "display(melted_auto_df)"
   ]
  },
  {
   "cell_type": "code",
   "execution_count": 198,
   "id": "c8c2a829-4089-464f-b99e-a595f68558b8",
   "metadata": {},
   "outputs": [
    {
     "data": {
      "text/html": [
       "<div>\n",
       "<style scoped>\n",
       "    .dataframe tbody tr th:only-of-type {\n",
       "        vertical-align: middle;\n",
       "    }\n",
       "\n",
       "    .dataframe tbody tr th {\n",
       "        vertical-align: top;\n",
       "    }\n",
       "\n",
       "    .dataframe thead th {\n",
       "        text-align: right;\n",
       "    }\n",
       "</style>\n",
       "<table border=\"1\" class=\"dataframe\">\n",
       "  <thead>\n",
       "    <tr style=\"text-align: right;\">\n",
       "      <th></th>\n",
       "      <th>DATE</th>\n",
       "      <th>VEHICLE</th>\n",
       "    </tr>\n",
       "  </thead>\n",
       "  <tbody>\n",
       "    <tr>\n",
       "      <th>0</th>\n",
       "      <td>2022-01-31</td>\n",
       "      <td>2012 CHEVY CRUZE</td>\n",
       "    </tr>\n",
       "    <tr>\n",
       "      <th>1</th>\n",
       "      <td>2022-10-13</td>\n",
       "      <td>2012 CHEVY CRUZE</td>\n",
       "    </tr>\n",
       "    <tr>\n",
       "      <th>2</th>\n",
       "      <td>2022-10-13</td>\n",
       "      <td>2012 CHEVY CRUZE</td>\n",
       "    </tr>\n",
       "    <tr>\n",
       "      <th>3</th>\n",
       "      <td>2023-05-06</td>\n",
       "      <td>2016 TOYOTA COROLLA</td>\n",
       "    </tr>\n",
       "    <tr>\n",
       "      <th>4</th>\n",
       "      <td>2024-07-07</td>\n",
       "      <td>2017 HYUNDAI SONATA</td>\n",
       "    </tr>\n",
       "  </tbody>\n",
       "</table>\n",
       "</div>"
      ],
      "text/plain": [
       "        DATE              VEHICLE\n",
       "0 2022-01-31     2012 CHEVY CRUZE\n",
       "1 2022-10-13     2012 CHEVY CRUZE\n",
       "2 2022-10-13     2012 CHEVY CRUZE\n",
       "3 2023-05-06  2016 TOYOTA COROLLA\n",
       "4 2024-07-07  2017 HYUNDAI SONATA"
      ]
     },
     "metadata": {},
     "output_type": "display_data"
    }
   ],
   "source": [
    "filtered_claims = claims_df[['DATE', 'VEHICLE']]\n",
    "display(filtered_claims)"
   ]
  },
  {
   "cell_type": "code",
   "execution_count": 199,
   "id": "fa43bd93-759a-40cd-a1ad-da8e9a497af2",
   "metadata": {},
   "outputs": [
    {
     "data": {
      "application/vnd.plotly.v1+json": {
       "config": {
        "plotlyServerURL": "https://plot.ly"
       },
       "data": [
        {
         "marker": {
          "color": "orange"
         },
         "mode": "lines+markers",
         "name": "2017 HYUNDAI SONATA Premium",
         "type": "scatter",
         "x": [
          "2020-09-30T00:00:00",
          "2021-04-02T00:00:00",
          "2021-05-01T00:00:00",
          "2021-10-05T00:00:00",
          "2022-03-04T00:00:00",
          "2022-03-10T00:00:00",
          "2022-04-02T00:00:00",
          "2022-10-06T00:00:00",
          "2022-10-29T00:00:00",
          "2023-01-18T00:00:00",
          "2023-04-04T00:00:00",
          "2023-08-25T00:00:00",
          "2023-09-07T00:00:00",
          "2023-10-04T00:00:00",
          "2024-04-03T00:00:00",
          "2024-10-03T00:00:00",
          "2024-10-10T00:00:00"
         ],
         "y": [
          427.44,
          471.24,
          515.87,
          515.87,
          688.08,
          677.24,
          820.45,
          1020.97,
          1105.87,
          828.38,
          982.56,
          845.89,
          801.27,
          1281.36,
          1375.65,
          1723.15,
          1006.3
         ]
        },
        {
         "marker": {
          "color": "blue"
         },
         "mode": "lines+markers",
         "name": "2020 TOYOTA TACOMA Premium",
         "type": "scatter",
         "x": [
          "2020-09-30T00:00:00",
          "2021-04-02T00:00:00",
          "2021-05-01T00:00:00",
          "2021-10-05T00:00:00",
          "2022-03-04T00:00:00",
          "2022-03-10T00:00:00",
          "2022-04-02T00:00:00",
          "2022-10-06T00:00:00",
          "2022-10-29T00:00:00",
          "2023-01-18T00:00:00",
          "2023-04-04T00:00:00",
          "2023-08-25T00:00:00",
          "2023-09-07T00:00:00",
          "2023-10-04T00:00:00",
          "2024-04-03T00:00:00",
          "2024-10-03T00:00:00",
          "2024-10-10T00:00:00"
         ],
         "y": [
          507.37,
          569.14,
          609.99,
          611.96,
          741.65,
          732.67,
          918.97,
          1112.75,
          1184.27,
          929.1,
          1127.59,
          989.83,
          940.32,
          1416.3,
          1417.5,
          1459.58,
          1270.06
         ]
        },
        {
         "marker": {
          "color": "green"
         },
         "mode": "lines+markers",
         "name": "2012 CHEVY CRUZE Premium",
         "type": "scatter",
         "x": [
          "2021-05-01T00:00:00",
          "2021-10-05T00:00:00",
          "2022-03-04T00:00:00",
          "2022-03-10T00:00:00",
          "2022-04-02T00:00:00",
          "2022-10-06T00:00:00"
         ],
         "y": [
          345.9,
          345.9,
          479.8,
          472,
          580.56,
          758.72
         ]
        },
        {
         "marker": {
          "color": "purple"
         },
         "mode": "lines+markers",
         "name": "2016 TOYOTA COROLLA Premium",
         "type": "scatter",
         "x": [
          "2023-01-18T00:00:00",
          "2023-04-04T00:00:00"
         ],
         "y": [
          692.67,
          821.15
         ]
        },
        {
         "marker": {
          "color": "red"
         },
         "mode": "lines+markers",
         "name": "2003 HONDA ACCORD Premium",
         "type": "scatter",
         "x": [
          "2023-08-25T00:00:00",
          "2023-09-07T00:00:00",
          "2023-10-04T00:00:00",
          "2024-04-03T00:00:00",
          "2024-10-03T00:00:00",
          "2024-10-10T00:00:00"
         ],
         "y": [
          728.36,
          690.92,
          1134.89,
          1132.26,
          1291.99,
          1711
         ]
        },
        {
         "marker": {
          "color": "green",
          "size": 10,
          "symbol": "x"
         },
         "mode": "markers",
         "name": "2012 CHEVY CRUZE Claim",
         "type": "scatter",
         "x": [
          "2022-01-31T00:00:00",
          "2022-10-13T00:00:00",
          "2022-10-13T00:00:00"
         ],
         "y": [
          0,
          0,
          0
         ]
        },
        {
         "marker": {
          "color": "purple",
          "size": 10,
          "symbol": "x"
         },
         "mode": "markers",
         "name": "2016 TOYOTA COROLLA Claim",
         "type": "scatter",
         "x": [
          "2023-05-06T00:00:00"
         ],
         "y": [
          0
         ]
        },
        {
         "marker": {
          "color": "orange",
          "size": 10,
          "symbol": "x"
         },
         "mode": "markers",
         "name": "2017 HYUNDAI SONATA Claim",
         "type": "scatter",
         "x": [
          "2024-07-07T00:00:00"
         ],
         "y": [
          0
         ]
        },
        {
         "marker": {
          "color": "black"
         },
         "mode": "lines+markers",
         "name": "Total Premium",
         "type": "scatter",
         "x": [
          "2020-09-30T00:00:00",
          "2021-04-02T00:00:00",
          "2021-05-01T00:00:00",
          "2021-10-05T00:00:00",
          "2022-03-04T00:00:00",
          "2022-03-10T00:00:00",
          "2022-04-02T00:00:00",
          "2022-10-06T00:00:00",
          "2022-10-29T00:00:00",
          "2023-01-18T00:00:00",
          "2023-04-04T00:00:00",
          "2023-08-25T00:00:00",
          "2023-09-07T00:00:00",
          "2023-10-04T00:00:00",
          "2024-04-03T00:00:00",
          "2024-10-03T00:00:00",
          "2024-10-10T00:00:00"
         ],
         "y": [
          934.81,
          1040.38,
          1471.7600000000002,
          1473.73,
          1909.53,
          1881.9099999999999,
          2319.98,
          2892.4400000000005,
          2290.14,
          2450.15,
          2931.2999999999997,
          2564.08,
          2432.51,
          3832.55,
          3925.41,
          4474.72,
          3987.3599999999997
         ]
        }
       ],
       "layout": {
        "autosize": true,
        "hovermode": "x unified",
        "legend": {
         "title": {
          "text": "Legend"
         }
        },
        "template": {
         "data": {
          "bar": [
           {
            "error_x": {
             "color": "#2a3f5f"
            },
            "error_y": {
             "color": "#2a3f5f"
            },
            "marker": {
             "line": {
              "color": "#E5ECF6",
              "width": 0.5
             },
             "pattern": {
              "fillmode": "overlay",
              "size": 10,
              "solidity": 0.2
             }
            },
            "type": "bar"
           }
          ],
          "barpolar": [
           {
            "marker": {
             "line": {
              "color": "#E5ECF6",
              "width": 0.5
             },
             "pattern": {
              "fillmode": "overlay",
              "size": 10,
              "solidity": 0.2
             }
            },
            "type": "barpolar"
           }
          ],
          "carpet": [
           {
            "aaxis": {
             "endlinecolor": "#2a3f5f",
             "gridcolor": "white",
             "linecolor": "white",
             "minorgridcolor": "white",
             "startlinecolor": "#2a3f5f"
            },
            "baxis": {
             "endlinecolor": "#2a3f5f",
             "gridcolor": "white",
             "linecolor": "white",
             "minorgridcolor": "white",
             "startlinecolor": "#2a3f5f"
            },
            "type": "carpet"
           }
          ],
          "choropleth": [
           {
            "colorbar": {
             "outlinewidth": 0,
             "ticks": ""
            },
            "type": "choropleth"
           }
          ],
          "contour": [
           {
            "colorbar": {
             "outlinewidth": 0,
             "ticks": ""
            },
            "colorscale": [
             [
              0,
              "#0d0887"
             ],
             [
              0.1111111111111111,
              "#46039f"
             ],
             [
              0.2222222222222222,
              "#7201a8"
             ],
             [
              0.3333333333333333,
              "#9c179e"
             ],
             [
              0.4444444444444444,
              "#bd3786"
             ],
             [
              0.5555555555555556,
              "#d8576b"
             ],
             [
              0.6666666666666666,
              "#ed7953"
             ],
             [
              0.7777777777777778,
              "#fb9f3a"
             ],
             [
              0.8888888888888888,
              "#fdca26"
             ],
             [
              1,
              "#f0f921"
             ]
            ],
            "type": "contour"
           }
          ],
          "contourcarpet": [
           {
            "colorbar": {
             "outlinewidth": 0,
             "ticks": ""
            },
            "type": "contourcarpet"
           }
          ],
          "heatmap": [
           {
            "colorbar": {
             "outlinewidth": 0,
             "ticks": ""
            },
            "colorscale": [
             [
              0,
              "#0d0887"
             ],
             [
              0.1111111111111111,
              "#46039f"
             ],
             [
              0.2222222222222222,
              "#7201a8"
             ],
             [
              0.3333333333333333,
              "#9c179e"
             ],
             [
              0.4444444444444444,
              "#bd3786"
             ],
             [
              0.5555555555555556,
              "#d8576b"
             ],
             [
              0.6666666666666666,
              "#ed7953"
             ],
             [
              0.7777777777777778,
              "#fb9f3a"
             ],
             [
              0.8888888888888888,
              "#fdca26"
             ],
             [
              1,
              "#f0f921"
             ]
            ],
            "type": "heatmap"
           }
          ],
          "heatmapgl": [
           {
            "colorbar": {
             "outlinewidth": 0,
             "ticks": ""
            },
            "colorscale": [
             [
              0,
              "#0d0887"
             ],
             [
              0.1111111111111111,
              "#46039f"
             ],
             [
              0.2222222222222222,
              "#7201a8"
             ],
             [
              0.3333333333333333,
              "#9c179e"
             ],
             [
              0.4444444444444444,
              "#bd3786"
             ],
             [
              0.5555555555555556,
              "#d8576b"
             ],
             [
              0.6666666666666666,
              "#ed7953"
             ],
             [
              0.7777777777777778,
              "#fb9f3a"
             ],
             [
              0.8888888888888888,
              "#fdca26"
             ],
             [
              1,
              "#f0f921"
             ]
            ],
            "type": "heatmapgl"
           }
          ],
          "histogram": [
           {
            "marker": {
             "pattern": {
              "fillmode": "overlay",
              "size": 10,
              "solidity": 0.2
             }
            },
            "type": "histogram"
           }
          ],
          "histogram2d": [
           {
            "colorbar": {
             "outlinewidth": 0,
             "ticks": ""
            },
            "colorscale": [
             [
              0,
              "#0d0887"
             ],
             [
              0.1111111111111111,
              "#46039f"
             ],
             [
              0.2222222222222222,
              "#7201a8"
             ],
             [
              0.3333333333333333,
              "#9c179e"
             ],
             [
              0.4444444444444444,
              "#bd3786"
             ],
             [
              0.5555555555555556,
              "#d8576b"
             ],
             [
              0.6666666666666666,
              "#ed7953"
             ],
             [
              0.7777777777777778,
              "#fb9f3a"
             ],
             [
              0.8888888888888888,
              "#fdca26"
             ],
             [
              1,
              "#f0f921"
             ]
            ],
            "type": "histogram2d"
           }
          ],
          "histogram2dcontour": [
           {
            "colorbar": {
             "outlinewidth": 0,
             "ticks": ""
            },
            "colorscale": [
             [
              0,
              "#0d0887"
             ],
             [
              0.1111111111111111,
              "#46039f"
             ],
             [
              0.2222222222222222,
              "#7201a8"
             ],
             [
              0.3333333333333333,
              "#9c179e"
             ],
             [
              0.4444444444444444,
              "#bd3786"
             ],
             [
              0.5555555555555556,
              "#d8576b"
             ],
             [
              0.6666666666666666,
              "#ed7953"
             ],
             [
              0.7777777777777778,
              "#fb9f3a"
             ],
             [
              0.8888888888888888,
              "#fdca26"
             ],
             [
              1,
              "#f0f921"
             ]
            ],
            "type": "histogram2dcontour"
           }
          ],
          "mesh3d": [
           {
            "colorbar": {
             "outlinewidth": 0,
             "ticks": ""
            },
            "type": "mesh3d"
           }
          ],
          "parcoords": [
           {
            "line": {
             "colorbar": {
              "outlinewidth": 0,
              "ticks": ""
             }
            },
            "type": "parcoords"
           }
          ],
          "pie": [
           {
            "automargin": true,
            "type": "pie"
           }
          ],
          "scatter": [
           {
            "fillpattern": {
             "fillmode": "overlay",
             "size": 10,
             "solidity": 0.2
            },
            "type": "scatter"
           }
          ],
          "scatter3d": [
           {
            "line": {
             "colorbar": {
              "outlinewidth": 0,
              "ticks": ""
             }
            },
            "marker": {
             "colorbar": {
              "outlinewidth": 0,
              "ticks": ""
             }
            },
            "type": "scatter3d"
           }
          ],
          "scattercarpet": [
           {
            "marker": {
             "colorbar": {
              "outlinewidth": 0,
              "ticks": ""
             }
            },
            "type": "scattercarpet"
           }
          ],
          "scattergeo": [
           {
            "marker": {
             "colorbar": {
              "outlinewidth": 0,
              "ticks": ""
             }
            },
            "type": "scattergeo"
           }
          ],
          "scattergl": [
           {
            "marker": {
             "colorbar": {
              "outlinewidth": 0,
              "ticks": ""
             }
            },
            "type": "scattergl"
           }
          ],
          "scattermapbox": [
           {
            "marker": {
             "colorbar": {
              "outlinewidth": 0,
              "ticks": ""
             }
            },
            "type": "scattermapbox"
           }
          ],
          "scatterpolar": [
           {
            "marker": {
             "colorbar": {
              "outlinewidth": 0,
              "ticks": ""
             }
            },
            "type": "scatterpolar"
           }
          ],
          "scatterpolargl": [
           {
            "marker": {
             "colorbar": {
              "outlinewidth": 0,
              "ticks": ""
             }
            },
            "type": "scatterpolargl"
           }
          ],
          "scatterternary": [
           {
            "marker": {
             "colorbar": {
              "outlinewidth": 0,
              "ticks": ""
             }
            },
            "type": "scatterternary"
           }
          ],
          "surface": [
           {
            "colorbar": {
             "outlinewidth": 0,
             "ticks": ""
            },
            "colorscale": [
             [
              0,
              "#0d0887"
             ],
             [
              0.1111111111111111,
              "#46039f"
             ],
             [
              0.2222222222222222,
              "#7201a8"
             ],
             [
              0.3333333333333333,
              "#9c179e"
             ],
             [
              0.4444444444444444,
              "#bd3786"
             ],
             [
              0.5555555555555556,
              "#d8576b"
             ],
             [
              0.6666666666666666,
              "#ed7953"
             ],
             [
              0.7777777777777778,
              "#fb9f3a"
             ],
             [
              0.8888888888888888,
              "#fdca26"
             ],
             [
              1,
              "#f0f921"
             ]
            ],
            "type": "surface"
           }
          ],
          "table": [
           {
            "cells": {
             "fill": {
              "color": "#EBF0F8"
             },
             "line": {
              "color": "white"
             }
            },
            "header": {
             "fill": {
              "color": "#C8D4E3"
             },
             "line": {
              "color": "white"
             }
            },
            "type": "table"
           }
          ]
         },
         "layout": {
          "annotationdefaults": {
           "arrowcolor": "#2a3f5f",
           "arrowhead": 0,
           "arrowwidth": 1
          },
          "autotypenumbers": "strict",
          "coloraxis": {
           "colorbar": {
            "outlinewidth": 0,
            "ticks": ""
           }
          },
          "colorscale": {
           "diverging": [
            [
             0,
             "#8e0152"
            ],
            [
             0.1,
             "#c51b7d"
            ],
            [
             0.2,
             "#de77ae"
            ],
            [
             0.3,
             "#f1b6da"
            ],
            [
             0.4,
             "#fde0ef"
            ],
            [
             0.5,
             "#f7f7f7"
            ],
            [
             0.6,
             "#e6f5d0"
            ],
            [
             0.7,
             "#b8e186"
            ],
            [
             0.8,
             "#7fbc41"
            ],
            [
             0.9,
             "#4d9221"
            ],
            [
             1,
             "#276419"
            ]
           ],
           "sequential": [
            [
             0,
             "#0d0887"
            ],
            [
             0.1111111111111111,
             "#46039f"
            ],
            [
             0.2222222222222222,
             "#7201a8"
            ],
            [
             0.3333333333333333,
             "#9c179e"
            ],
            [
             0.4444444444444444,
             "#bd3786"
            ],
            [
             0.5555555555555556,
             "#d8576b"
            ],
            [
             0.6666666666666666,
             "#ed7953"
            ],
            [
             0.7777777777777778,
             "#fb9f3a"
            ],
            [
             0.8888888888888888,
             "#fdca26"
            ],
            [
             1,
             "#f0f921"
            ]
           ],
           "sequentialminus": [
            [
             0,
             "#0d0887"
            ],
            [
             0.1111111111111111,
             "#46039f"
            ],
            [
             0.2222222222222222,
             "#7201a8"
            ],
            [
             0.3333333333333333,
             "#9c179e"
            ],
            [
             0.4444444444444444,
             "#bd3786"
            ],
            [
             0.5555555555555556,
             "#d8576b"
            ],
            [
             0.6666666666666666,
             "#ed7953"
            ],
            [
             0.7777777777777778,
             "#fb9f3a"
            ],
            [
             0.8888888888888888,
             "#fdca26"
            ],
            [
             1,
             "#f0f921"
            ]
           ]
          },
          "colorway": [
           "#636efa",
           "#EF553B",
           "#00cc96",
           "#ab63fa",
           "#FFA15A",
           "#19d3f3",
           "#FF6692",
           "#B6E880",
           "#FF97FF",
           "#FECB52"
          ],
          "font": {
           "color": "#2a3f5f"
          },
          "geo": {
           "bgcolor": "white",
           "lakecolor": "white",
           "landcolor": "#E5ECF6",
           "showlakes": true,
           "showland": true,
           "subunitcolor": "white"
          },
          "hoverlabel": {
           "align": "left"
          },
          "hovermode": "closest",
          "mapbox": {
           "style": "light"
          },
          "paper_bgcolor": "white",
          "plot_bgcolor": "#E5ECF6",
          "polar": {
           "angularaxis": {
            "gridcolor": "white",
            "linecolor": "white",
            "ticks": ""
           },
           "bgcolor": "#E5ECF6",
           "radialaxis": {
            "gridcolor": "white",
            "linecolor": "white",
            "ticks": ""
           }
          },
          "scene": {
           "xaxis": {
            "backgroundcolor": "#E5ECF6",
            "gridcolor": "white",
            "gridwidth": 2,
            "linecolor": "white",
            "showbackground": true,
            "ticks": "",
            "zerolinecolor": "white"
           },
           "yaxis": {
            "backgroundcolor": "#E5ECF6",
            "gridcolor": "white",
            "gridwidth": 2,
            "linecolor": "white",
            "showbackground": true,
            "ticks": "",
            "zerolinecolor": "white"
           },
           "zaxis": {
            "backgroundcolor": "#E5ECF6",
            "gridcolor": "white",
            "gridwidth": 2,
            "linecolor": "white",
            "showbackground": true,
            "ticks": "",
            "zerolinecolor": "white"
           }
          },
          "shapedefaults": {
           "line": {
            "color": "#2a3f5f"
           }
          },
          "ternary": {
           "aaxis": {
            "gridcolor": "white",
            "linecolor": "white",
            "ticks": ""
           },
           "baxis": {
            "gridcolor": "white",
            "linecolor": "white",
            "ticks": ""
           },
           "bgcolor": "#E5ECF6",
           "caxis": {
            "gridcolor": "white",
            "linecolor": "white",
            "ticks": ""
           }
          },
          "title": {
           "x": 0.05
          },
          "xaxis": {
           "automargin": true,
           "gridcolor": "white",
           "linecolor": "white",
           "ticks": "",
           "title": {
            "standoff": 15
           },
           "zerolinecolor": "white",
           "zerolinewidth": 2
          },
          "yaxis": {
           "automargin": true,
           "gridcolor": "white",
           "linecolor": "white",
           "ticks": "",
           "title": {
            "standoff": 15
           },
           "zerolinecolor": "white",
           "zerolinewidth": 2
          }
         }
        },
        "title": {
         "text": "Auto Insurance"
        },
        "xaxis": {
         "autorange": true,
         "range": [
          "2020-07-06 08:03:45.0434",
          "2025-01-03 15:56:14.9566"
         ],
         "title": {
          "text": "Date"
         },
         "type": "date"
        },
        "yaxis": {
         "autorange": true,
         "range": [
          -304.1666423357664,
          4758.472773722628
         ],
         "title": {
          "text": "Premium"
         },
         "type": "linear"
        }
       }
      },
      "image/png": "[encoded data removed]",
      "text/html": [
       "<div>                            <div id=\"8914c0d4-8e44-45c0-a78b-c8ce7e95e1f9\" class=\"plotly-graph-div\" style=\"height:800px; width:100%;\"></div>            <script type=\"text/javascript\">                require([\"plotly\"], function(Plotly) {                    window.PLOTLYENV=window.PLOTLYENV || {};                                    if (document.getElementById(\"8914c0d4-8e44-45c0-a78b-c8ce7e95e1f9\")) {                    Plotly.newPlot(                        \"8914c0d4-8e44-45c0-a78b-c8ce7e95e1f9\",                        [{\"marker\":{\"color\":\"orange\"},\"mode\":\"lines+markers\",\"name\":\"2017 HYUNDAI SONATA Premium\",\"x\":[\"2020-09-30T00:00:00\",\"2021-04-02T00:00:00\",\"2021-05-01T00:00:00\",\"2021-10-05T00:00:00\",\"2022-03-04T00:00:00\",\"2022-03-10T00:00:00\",\"2022-04-02T00:00:00\",\"2022-10-06T00:00:00\",\"2022-10-29T00:00:00\",\"2023-01-18T00:00:00\",\"2023-04-04T00:00:00\",\"2023-08-25T00:00:00\",\"2023-09-07T00:00:00\",\"2023-10-04T00:00:00\",\"2024-04-03T00:00:00\",\"2024-10-03T00:00:00\",\"2024-10-10T00:00:00\"],\"y\":[427.44,471.24,515.87,515.87,688.08,677.24,820.45,1020.97,1105.87,828.38,982.56,845.89,801.27,1281.36,1375.65,1723.15,1006.3],\"type\":\"scatter\"},{\"marker\":{\"color\":\"blue\"},\"mode\":\"lines+markers\",\"name\":\"2020 TOYOTA TACOMA Premium\",\"x\":[\"2020-09-30T00:00:00\",\"2021-04-02T00:00:00\",\"2021-05-01T00:00:00\",\"2021-10-05T00:00:00\",\"2022-03-04T00:00:00\",\"2022-03-10T00:00:00\",\"2022-04-02T00:00:00\",\"2022-10-06T00:00:00\",\"2022-10-29T00:00:00\",\"2023-01-18T00:00:00\",\"2023-04-04T00:00:00\",\"2023-08-25T00:00:00\",\"2023-09-07T00:00:00\",\"2023-10-04T00:00:00\",\"2024-04-03T00:00:00\",\"2024-10-03T00:00:00\",\"2024-10-10T00:00:00\"],\"y\":[507.37,569.14,609.99,611.96,741.65,732.67,918.97,1112.75,1184.27,929.1,1127.59,989.83,940.32,1416.3,1417.5,1459.58,1270.06],\"type\":\"scatter\"},{\"marker\":{\"color\":\"green\"},\"mode\":\"lines+markers\",\"name\":\"2012 CHEVY CRUZE Premium\",\"x\":[\"2021-05-01T00:00:00\",\"2021-10-05T00:00:00\",\"2022-03-04T00:00:00\",\"2022-03-10T00:00:00\",\"2022-04-02T00:00:00\",\"2022-10-06T00:00:00\"],\"y\":[345.9,345.9,479.8,472.0,580.56,758.72],\"type\":\"scatter\"},{\"marker\":{\"color\":\"purple\"},\"mode\":\"lines+markers\",\"name\":\"2016 TOYOTA COROLLA Premium\",\"x\":[\"2023-01-18T00:00:00\",\"2023-04-04T00:00:00\"],\"y\":[692.67,821.15],\"type\":\"scatter\"},{\"marker\":{\"color\":\"red\"},\"mode\":\"lines+markers\",\"name\":\"2003 HONDA ACCORD Premium\",\"x\":[\"2023-08-25T00:00:00\",\"2023-09-07T00:00:00\",\"2023-10-04T00:00:00\",\"2024-04-03T00:00:00\",\"2024-10-03T00:00:00\",\"2024-10-10T00:00:00\"],\"y\":[728.36,690.92,1134.89,1132.26,1291.99,1711.0],\"type\":\"scatter\"},{\"marker\":{\"color\":\"green\",\"size\":10,\"symbol\":\"x\"},\"mode\":\"markers\",\"name\":\"2012 CHEVY CRUZE Claim\",\"x\":[\"2022-01-31T00:00:00\",\"2022-10-13T00:00:00\",\"2022-10-13T00:00:00\"],\"y\":[0,0,0],\"type\":\"scatter\"},{\"marker\":{\"color\":\"purple\",\"size\":10,\"symbol\":\"x\"},\"mode\":\"markers\",\"name\":\"2016 TOYOTA COROLLA Claim\",\"x\":[\"2023-05-06T00:00:00\"],\"y\":[0],\"type\":\"scatter\"},{\"marker\":{\"color\":\"orange\",\"size\":10,\"symbol\":\"x\"},\"mode\":\"markers\",\"name\":\"2017 HYUNDAI SONATA Claim\",\"x\":[\"2024-07-07T00:00:00\"],\"y\":[0],\"type\":\"scatter\"},{\"marker\":{\"color\":\"black\"},\"mode\":\"lines+markers\",\"name\":\"Total Premium\",\"x\":[\"2020-09-30T00:00:00\",\"2021-04-02T00:00:00\",\"2021-05-01T00:00:00\",\"2021-10-05T00:00:00\",\"2022-03-04T00:00:00\",\"2022-03-10T00:00:00\",\"2022-04-02T00:00:00\",\"2022-10-06T00:00:00\",\"2022-10-29T00:00:00\",\"2023-01-18T00:00:00\",\"2023-04-04T00:00:00\",\"2023-08-25T00:00:00\",\"2023-09-07T00:00:00\",\"2023-10-04T00:00:00\",\"2024-04-03T00:00:00\",\"2024-10-03T00:00:00\",\"2024-10-10T00:00:00\"],\"y\":[934.81,1040.38,1471.7600000000002,1473.73,1909.53,1881.9099999999999,2319.98,2892.4400000000005,2290.14,2450.15,2931.2999999999997,2564.08,2432.51,3832.55,3925.41,4474.72,3987.3599999999997],\"type\":\"scatter\"}],                        {\"template\":{\"data\":{\"histogram2dcontour\":[{\"type\":\"histogram2dcontour\",\"colorbar\":{\"outlinewidth\":0,\"ticks\":\"\"},\"colorscale\":[[0.0,\"#0d0887\"],[0.1111111111111111,\"#46039f\"],[0.2222222222222222,\"#7201a8\"],[0.3333333333333333,\"#9c179e\"],[0.4444444444444444,\"#bd3786\"],[0.5555555555555556,\"#d8576b\"],[0.6666666666666666,\"#ed7953\"],[0.7777777777777778,\"#fb9f3a\"],[0.8888888888888888,\"#fdca26\"],[1.0,\"#f0f921\"]]}],\"choropleth\":[{\"type\":\"choropleth\",\"colorbar\":{\"outlinewidth\":0,\"ticks\":\"\"}}],\"histogram2d\":[{\"type\":\"histogram2d\",\"colorbar\":{\"outlinewidth\":0,\"ticks\":\"\"},\"colorscale\":[[0.0,\"#0d0887\"],[0.1111111111111111,\"#46039f\"],[0.2222222222222222,\"#7201a8\"],[0.3333333333333333,\"#9c179e\"],[0.4444444444444444,\"#bd3786\"],[0.5555555555555556,\"#d8576b\"],[0.6666666666666666,\"#ed7953\"],[0.7777777777777778,\"#fb9f3a\"],[0.8888888888888888,\"#fdca26\"],[1.0,\"#f0f921\"]]}],\"heatmap\":[{\"type\":\"heatmap\",\"colorbar\":{\"outlinewidth\":0,\"ticks\":\"\"},\"colorscale\":[[0.0,\"#0d0887\"],[0.1111111111111111,\"#46039f\"],[0.2222222222222222,\"#7201a8\"],[0.3333333333333333,\"#9c179e\"],[0.4444444444444444,\"#bd3786\"],[0.5555555555555556,\"#d8576b\"],[0.6666666666666666,\"#ed7953\"],[0.7777777777777778,\"#fb9f3a\"],[0.8888888888888888,\"#fdca26\"],[1.0,\"#f0f921\"]]}],\"heatmapgl\":[{\"type\":\"heatmapgl\",\"colorbar\":{\"outlinewidth\":0,\"ticks\":\"\"},\"colorscale\":[[0.0,\"#0d0887\"],[0.1111111111111111,\"#46039f\"],[0.2222222222222222,\"#7201a8\"],[0.3333333333333333,\"#9c179e\"],[0.4444444444444444,\"#bd3786\"],[0.5555555555555556,\"#d8576b\"],[0.6666666666666666,\"#ed7953\"],[0.7777777777777778,\"#fb9f3a\"],[0.8888888888888888,\"#fdca26\"],[1.0,\"#f0f921\"]]}],\"contourcarpet\":[{\"type\":\"contourcarpet\",\"colorbar\":{\"outlinewidth\":0,\"ticks\":\"\"}}],\"contour\":[{\"type\":\"contour\",\"colorbar\":{\"outlinewidth\":0,\"ticks\":\"\"},\"colorscale\":[[0.0,\"#0d0887\"],[0.1111111111111111,\"#46039f\"],[0.2222222222222222,\"#7201a8\"],[0.3333333333333333,\"#9c179e\"],[0.4444444444444444,\"#bd3786\"],[0.5555555555555556,\"#d8576b\"],[0.6666666666666666,\"#ed7953\"],[0.7777777777777778,\"#fb9f3a\"],[0.8888888888888888,\"#fdca26\"],[1.0,\"#f0f921\"]]}],\"surface\":[{\"type\":\"surface\",\"colorbar\":{\"outlinewidth\":0,\"ticks\":\"\"},\"colorscale\":[[0.0,\"#0d0887\"],[0.1111111111111111,\"#46039f\"],[0.2222222222222222,\"#7201a8\"],[0.3333333333333333,\"#9c179e\"],[0.4444444444444444,\"#bd3786\"],[0.5555555555555556,\"#d8576b\"],[0.6666666666666666,\"#ed7953\"],[0.7777777777777778,\"#fb9f3a\"],[0.8888888888888888,\"#fdca26\"],[1.0,\"#f0f921\"]]}],\"mesh3d\":[{\"type\":\"mesh3d\",\"colorbar\":{\"outlinewidth\":0,\"ticks\":\"\"}}],\"scatter\":[{\"fillpattern\":{\"fillmode\":\"overlay\",\"size\":10,\"solidity\":0.2},\"type\":\"scatter\"}],\"parcoords\":[{\"type\":\"parcoords\",\"line\":{\"colorbar\":{\"outlinewidth\":0,\"ticks\":\"\"}}}],\"scatterpolargl\":[{\"type\":\"scatterpolargl\",\"marker\":{\"colorbar\":{\"outlinewidth\":0,\"ticks\":\"\"}}}],\"bar\":[{\"error_x\":{\"color\":\"#2a3f5f\"},\"error_y\":{\"color\":\"#2a3f5f\"},\"marker\":{\"line\":{\"color\":\"#E5ECF6\",\"width\":0.5},\"pattern\":{\"fillmode\":\"overlay\",\"size\":10,\"solidity\":0.2}},\"type\":\"bar\"}],\"scattergeo\":[{\"type\":\"scattergeo\",\"marker\":{\"colorbar\":{\"outlinewidth\":0,\"ticks\":\"\"}}}],\"scatterpolar\":[{\"type\":\"scatterpolar\",\"marker\":{\"colorbar\":{\"outlinewidth\":0,\"ticks\":\"\"}}}],\"histogram\":[{\"marker\":{\"pattern\":{\"fillmode\":\"overlay\",\"size\":10,\"solidity\":0.2}},\"type\":\"histogram\"}],\"scattergl\":[{\"type\":\"scattergl\",\"marker\":{\"colorbar\":{\"outlinewidth\":0,\"ticks\":\"\"}}}],\"scatter3d\":[{\"type\":\"scatter3d\",\"line\":{\"colorbar\":{\"outlinewidth\":0,\"ticks\":\"\"}},\"marker\":{\"colorbar\":{\"outlinewidth\":0,\"ticks\":\"\"}}}],\"scattermapbox\":[{\"type\":\"scattermapbox\",\"marker\":{\"colorbar\":{\"outlinewidth\":0,\"ticks\":\"\"}}}],\"scatterternary\":[{\"type\":\"scatterternary\",\"marker\":{\"colorbar\":{\"outlinewidth\":0,\"ticks\":\"\"}}}],\"scattercarpet\":[{\"type\":\"scattercarpet\",\"marker\":{\"colorbar\":{\"outlinewidth\":0,\"ticks\":\"\"}}}],\"carpet\":[{\"aaxis\":{\"endlinecolor\":\"#2a3f5f\",\"gridcolor\":\"white\",\"linecolor\":\"white\",\"minorgridcolor\":\"white\",\"startlinecolor\":\"#2a3f5f\"},\"baxis\":{\"endlinecolor\":\"#2a3f5f\",\"gridcolor\":\"white\",\"linecolor\":\"white\",\"minorgridcolor\":\"white\",\"startlinecolor\":\"#2a3f5f\"},\"type\":\"carpet\"}],\"table\":[{\"cells\":{\"fill\":{\"color\":\"#EBF0F8\"},\"line\":{\"color\":\"white\"}},\"header\":{\"fill\":{\"color\":\"#C8D4E3\"},\"line\":{\"color\":\"white\"}},\"type\":\"table\"}],\"barpolar\":[{\"marker\":{\"line\":{\"color\":\"#E5ECF6\",\"width\":0.5},\"pattern\":{\"fillmode\":\"overlay\",\"size\":10,\"solidity\":0.2}},\"type\":\"barpolar\"}],\"pie\":[{\"automargin\":true,\"type\":\"pie\"}]},\"layout\":{\"autotypenumbers\":\"strict\",\"colorway\":[\"#636efa\",\"#EF553B\",\"#00cc96\",\"#ab63fa\",\"#FFA15A\",\"#19d3f3\",\"#FF6692\",\"#B6E880\",\"#FF97FF\",\"#FECB52\"],\"font\":{\"color\":\"#2a3f5f\"},\"hovermode\":\"closest\",\"hoverlabel\":{\"align\":\"left\"},\"paper_bgcolor\":\"white\",\"plot_bgcolor\":\"#E5ECF6\",\"polar\":{\"bgcolor\":\"#E5ECF6\",\"angularaxis\":{\"gridcolor\":\"white\",\"linecolor\":\"white\",\"ticks\":\"\"},\"radialaxis\":{\"gridcolor\":\"white\",\"linecolor\":\"white\",\"ticks\":\"\"}},\"ternary\":{\"bgcolor\":\"#E5ECF6\",\"aaxis\":{\"gridcolor\":\"white\",\"linecolor\":\"white\",\"ticks\":\"\"},\"baxis\":{\"gridcolor\":\"white\",\"linecolor\":\"white\",\"ticks\":\"\"},\"caxis\":{\"gridcolor\":\"white\",\"linecolor\":\"white\",\"ticks\":\"\"}},\"coloraxis\":{\"colorbar\":{\"outlinewidth\":0,\"ticks\":\"\"}},\"colorscale\":{\"sequential\":[[0.0,\"#0d0887\"],[0.1111111111111111,\"#46039f\"],[0.2222222222222222,\"#7201a8\"],[0.3333333333333333,\"#9c179e\"],[0.4444444444444444,\"#bd3786\"],[0.5555555555555556,\"#d8576b\"],[0.6666666666666666,\"#ed7953\"],[0.7777777777777778,\"#fb9f3a\"],[0.8888888888888888,\"#fdca26\"],[1.0,\"#f0f921\"]],\"sequentialminus\":[[0.0,\"#0d0887\"],[0.1111111111111111,\"#46039f\"],[0.2222222222222222,\"#7201a8\"],[0.3333333333333333,\"#9c179e\"],[0.4444444444444444,\"#bd3786\"],[0.5555555555555556,\"#d8576b\"],[0.6666666666666666,\"#ed7953\"],[0.7777777777777778,\"#fb9f3a\"],[0.8888888888888888,\"#fdca26\"],[1.0,\"#f0f921\"]],\"diverging\":[[0,\"#8e0152\"],[0.1,\"#c51b7d\"],[0.2,\"#de77ae\"],[0.3,\"#f1b6da\"],[0.4,\"#fde0ef\"],[0.5,\"#f7f7f7\"],[0.6,\"#e6f5d0\"],[0.7,\"#b8e186\"],[0.8,\"#7fbc41\"],[0.9,\"#4d9221\"],[1,\"#276419\"]]},\"xaxis\":{\"gridcolor\":\"white\",\"linecolor\":\"white\",\"ticks\":\"\",\"title\":{\"standoff\":15},\"zerolinecolor\":\"white\",\"automargin\":true,\"zerolinewidth\":2},\"yaxis\":{\"gridcolor\":\"white\",\"linecolor\":\"white\",\"ticks\":\"\",\"title\":{\"standoff\":15},\"zerolinecolor\":\"white\",\"automargin\":true,\"zerolinewidth\":2},\"scene\":{\"xaxis\":{\"backgroundcolor\":\"#E5ECF6\",\"gridcolor\":\"white\",\"linecolor\":\"white\",\"showbackground\":true,\"ticks\":\"\",\"zerolinecolor\":\"white\",\"gridwidth\":2},\"yaxis\":{\"backgroundcolor\":\"#E5ECF6\",\"gridcolor\":\"white\",\"linecolor\":\"white\",\"showbackground\":true,\"ticks\":\"\",\"zerolinecolor\":\"white\",\"gridwidth\":2},\"zaxis\":{\"backgroundcolor\":\"#E5ECF6\",\"gridcolor\":\"white\",\"linecolor\":\"white\",\"showbackground\":true,\"ticks\":\"\",\"zerolinecolor\":\"white\",\"gridwidth\":2}},\"shapedefaults\":{\"line\":{\"color\":\"#2a3f5f\"}},\"annotationdefaults\":{\"arrowcolor\":\"#2a3f5f\",\"arrowhead\":0,\"arrowwidth\":1},\"geo\":{\"bgcolor\":\"white\",\"landcolor\":\"#E5ECF6\",\"subunitcolor\":\"white\",\"showland\":true,\"showlakes\":true,\"lakecolor\":\"white\"},\"title\":{\"x\":0.05},\"mapbox\":{\"style\":\"light\"}}},\"title\":{\"text\":\"Auto Insurance\"},\"xaxis\":{\"title\":{\"text\":\"Date\"}},\"yaxis\":{\"title\":{\"text\":\"Premium\"}},\"legend\":{\"title\":{\"text\":\"Legend\"}},\"hovermode\":\"x unified\",\"height\":800},                        {\"responsive\": true}                    ).then(function(){\n",
       "                            \n",
       "var gd = document.getElementById('8914c0d4-8e44-45c0-a78b-c8ce7e95e1f9');\n",
       "var x = new MutationObserver(function (mutations, observer) {{\n",
       "        var display = window.getComputedStyle(gd).display;\n",
       "        if (!display || display === 'none') {{\n",
       "            console.log([gd, 'removed!']);\n",
       "            Plotly.purge(gd);\n",
       "            observer.disconnect();\n",
       "        }}\n",
       "}});\n",
       "\n",
       "// Listen for the removal of the full notebook cells\n",
       "var notebookContainer = gd.closest('#notebook-container');\n",
       "if (notebookContainer) {{\n",
       "    x.observe(notebookContainer, {childList: true});\n",
       "}}\n",
       "\n",
       "// Listen for the clearing of the current output cell\n",
       "var outputEl = gd.closest('.output');\n",
       "if (outputEl) {{\n",
       "    x.observe(outputEl, {childList: true});\n",
       "}}\n",
       "\n",
       "                        })                };                });            </script>        </div>"
      ]
     },
     "metadata": {},
     "output_type": "display_data"
    }
   ],
   "source": [
    "vehicle_colors = {\n",
    "    '2020 TOYOTA TACOMA': 'blue',\n",
    "    '2012 CHEVY CRUZE': 'green',\n",
    "    '2016 TOYOTA COROLLA': 'purple',\n",
    "    '2017 HYUNDAI SONATA': 'orange',\n",
    "    '2003 HONDA ACCORD': 'red'\n",
    "}\n",
    "\n",
    "auto = go.Figure()\n",
    "\n",
    "for vehicle in melted_auto_df['VEHICLE'].unique():\n",
    "    vehicle_df = melted_auto_df[melted_auto_df['VEHICLE'] == vehicle]\n",
    "    auto.add_trace(go.Scatter(\n",
    "        x=vehicle_df['DATE'],\n",
    "        y=vehicle_df['PREMIUM'],\n",
    "        mode='lines+markers',\n",
    "        marker=dict(color=vehicle_colors.get(vehicle)),\n",
    "        name=f'{vehicle} Premium'\n",
    "    ))\n",
    "\n",
    "for vehicle in claims_filtered['VEHICLE'].unique():\n",
    "    vehicle_df = claims_filtered[claims_filtered['VEHICLE'] == vehicle]\n",
    "    auto.add_trace(go.Scatter(\n",
    "        x=vehicle_df['DATE'],\n",
    "        y=[0]*len(vehicle_df),\n",
    "        mode='markers',\n",
    "        name=f'{vehicle} Claim',\n",
    "        marker=dict(size=10, symbol='x', color=vehicle_colors.get(vehicle))\n",
    "    ))\n",
    "\n",
    "auto.add_trace(go.Scatter(\n",
    "    x=total_df['DATE'],\n",
    "    y=total_df['TOTAL'],\n",
    "    mode='lines+markers',\n",
    "    marker=dict(color='black'),\n",
    "    name='Total Premium'\n",
    "))\n",
    "\n",
    "auto.update_layout (\n",
    "    title='Auto Insurance',\n",
    "    xaxis_title = 'Date',\n",
    "    yaxis_title = 'Premium',\n",
    "    legend_title = 'Legend',\n",
    "    hovermode='x unified',\n",
    "    height=800\n",
    ")\n",
    "\n",
    "auto.show()"
   ]
  },
  {
   "cell_type": "code",
   "execution_count": null,
   "id": "5bc58457-667b-4f88-a94f-cc6d4ec9defb",
   "metadata": {},
   "outputs": [],
   "source": []
  }
 ],
 "metadata": {
  "kernelspec": {
   "display_name": "Python 3 (ipykernel)",
   "language": "python",
   "name": "python3"
  },
  "language_info": {
   "codemirror_mode": {
    "name": "ipython",
    "version": 3
   },
   "file_extension": ".py",
   "mimetype": "text/x-python",
   "name": "python",
   "nbconvert_exporter": "python",
   "pygments_lexer": "ipython3",
   "version": "3.10.12"
  }
 },
 "nbformat": 4,
 "nbformat_minor": 5
}
